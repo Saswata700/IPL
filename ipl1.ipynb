{
 "cells": [
  {
   "cell_type": "markdown",
   "metadata": {},
   "source": [
    "# The Sparks Foundation Internship"
   ]
  },
  {
   "cell_type": "markdown",
   "metadata": {},
   "source": [
    "# Explorartory Data Analysis on dataset \" Indian Premier League\"\n",
    "Saswata Paul Choudhury"
   ]
  },
  {
   "cell_type": "raw",
   "metadata": {},
   "source": [
    "From thr \"Indian Premier league\" data set we need to find the most successful teams, players and factors contributing win or loss of a team."
   ]
  },
  {
   "cell_type": "markdown",
   "metadata": {},
   "source": [
    "# Data Exploration & visualization:"
   ]
  },
  {
   "cell_type": "code",
   "execution_count": 167,
   "metadata": {},
   "outputs": [],
   "source": [
    "match<-read.csv(\"C:/Users/user/Desktop/spark/matches.csv\", stringsAsFactors=FALSE,na.strings=c(\"\",\"NA\"))"
   ]
  },
  {
   "cell_type": "code",
   "execution_count": 137,
   "metadata": {},
   "outputs": [
    {
     "data": {
      "text/html": [
       "<table>\n",
       "<thead><tr><th scope=col>id</th><th scope=col>season</th><th scope=col>city</th><th scope=col>date</th><th scope=col>team1</th><th scope=col>team2</th><th scope=col>toss_winner</th><th scope=col>toss_decision</th><th scope=col>result</th><th scope=col>dl_applied</th><th scope=col>winner</th><th scope=col>win_by_runs</th><th scope=col>win_by_wickets</th><th scope=col>player_of_match</th><th scope=col>venue</th><th scope=col>umpire1</th><th scope=col>umpire2</th><th scope=col>umpire3</th></tr></thead>\n",
       "<tbody>\n",
       "\t<tr><td>1                                        </td><td>2017                                     </td><td>Hyderabad                                </td><td>05-04-2017                               </td><td>Sunrisers Hyderabad                      </td><td>Royal Challengers Bangalore              </td><td>Royal Challengers Bangalore              </td><td>field                                    </td><td>normal                                   </td><td>0                                        </td><td>Sunrisers Hyderabad                      </td><td>35                                       </td><td> 0                                       </td><td>Yuvraj Singh                             </td><td>Rajiv Gandhi International Stadium, Uppal</td><td>AY Dandekar                              </td><td>NJ Llong                                 </td><td>NA                                       </td></tr>\n",
       "\t<tr><td>2                                        </td><td>2017                                     </td><td>Pune                                     </td><td>06-04-2017                               </td><td>Mumbai Indians                           </td><td>Rising Pune Supergiant                   </td><td>Rising Pune Supergiant                   </td><td>field                                    </td><td>normal                                   </td><td>0                                        </td><td>Rising Pune Supergiant                   </td><td> 0                                       </td><td> 7                                       </td><td>SPD Smith                                </td><td>Maharashtra Cricket Association Stadium  </td><td>A Nand Kishore                           </td><td>S Ravi                                   </td><td>NA                                       </td></tr>\n",
       "\t<tr><td>3                                        </td><td>2017                                     </td><td>Rajkot                                   </td><td>07-04-2017                               </td><td>Gujarat Lions                            </td><td>Kolkata Knight Riders                    </td><td>Kolkata Knight Riders                    </td><td>field                                    </td><td>normal                                   </td><td>0                                        </td><td>Kolkata Knight Riders                    </td><td> 0                                       </td><td>10                                       </td><td>CA Lynn                                  </td><td>Saurashtra Cricket Association Stadium   </td><td>Nitin Menon                              </td><td>CK Nandan                                </td><td>NA                                       </td></tr>\n",
       "\t<tr><td>4                                        </td><td>2017                                     </td><td>Indore                                   </td><td>08-04-2017                               </td><td>Rising Pune Supergiant                   </td><td>Kings XI Punjab                          </td><td>Kings XI Punjab                          </td><td>field                                    </td><td>normal                                   </td><td>0                                        </td><td>Kings XI Punjab                          </td><td> 0                                       </td><td> 6                                       </td><td>GJ Maxwell                               </td><td>Holkar Cricket Stadium                   </td><td>AK Chaudhary                             </td><td>C Shamshuddin                            </td><td>NA                                       </td></tr>\n",
       "\t<tr><td>5                                        </td><td>2017                                     </td><td>Bangalore                                </td><td>08-04-2017                               </td><td>Royal Challengers Bangalore              </td><td>Delhi Daredevils                         </td><td>Royal Challengers Bangalore              </td><td>bat                                      </td><td>normal                                   </td><td>0                                        </td><td>Royal Challengers Bangalore              </td><td>15                                       </td><td> 0                                       </td><td>KM Jadhav                                </td><td>M Chinnaswamy Stadium                    </td><td>NA                                       </td><td>NA                                       </td><td>NA                                       </td></tr>\n",
       "\t<tr><td>6                                        </td><td>2017                                     </td><td>Hyderabad                                </td><td>09-04-2017                               </td><td>Gujarat Lions                            </td><td>Sunrisers Hyderabad                      </td><td>Sunrisers Hyderabad                      </td><td>field                                    </td><td>normal                                   </td><td>0                                        </td><td>Sunrisers Hyderabad                      </td><td> 0                                       </td><td> 9                                       </td><td>Rashid Khan                              </td><td>Rajiv Gandhi International Stadium, Uppal</td><td>A Deshmukh                               </td><td>NJ Llong                                 </td><td>NA                                       </td></tr>\n",
       "</tbody>\n",
       "</table>\n"
      ],
      "text/latex": [
       "\\begin{tabular}{r|llllllllllllllllll}\n",
       " id & season & city & date & team1 & team2 & toss\\_winner & toss\\_decision & result & dl\\_applied & winner & win\\_by\\_runs & win\\_by\\_wickets & player\\_of\\_match & venue & umpire1 & umpire2 & umpire3\\\\\n",
       "\\hline\n",
       "\t 1                                         & 2017                                      & Hyderabad                                 & 05-04-2017                                & Sunrisers Hyderabad                       & Royal Challengers Bangalore               & Royal Challengers Bangalore               & field                                     & normal                                    & 0                                         & Sunrisers Hyderabad                       & 35                                        &  0                                        & Yuvraj Singh                              & Rajiv Gandhi International Stadium, Uppal & AY Dandekar                               & NJ Llong                                  & NA                                       \\\\\n",
       "\t 2                                         & 2017                                      & Pune                                      & 06-04-2017                                & Mumbai Indians                            & Rising Pune Supergiant                    & Rising Pune Supergiant                    & field                                     & normal                                    & 0                                         & Rising Pune Supergiant                    &  0                                        &  7                                        & SPD Smith                                 & Maharashtra Cricket Association Stadium   & A Nand Kishore                            & S Ravi                                    & NA                                       \\\\\n",
       "\t 3                                         & 2017                                      & Rajkot                                    & 07-04-2017                                & Gujarat Lions                             & Kolkata Knight Riders                     & Kolkata Knight Riders                     & field                                     & normal                                    & 0                                         & Kolkata Knight Riders                     &  0                                        & 10                                        & CA Lynn                                   & Saurashtra Cricket Association Stadium    & Nitin Menon                               & CK Nandan                                 & NA                                       \\\\\n",
       "\t 4                                         & 2017                                      & Indore                                    & 08-04-2017                                & Rising Pune Supergiant                    & Kings XI Punjab                           & Kings XI Punjab                           & field                                     & normal                                    & 0                                         & Kings XI Punjab                           &  0                                        &  6                                        & GJ Maxwell                                & Holkar Cricket Stadium                    & AK Chaudhary                              & C Shamshuddin                             & NA                                       \\\\\n",
       "\t 5                                         & 2017                                      & Bangalore                                 & 08-04-2017                                & Royal Challengers Bangalore               & Delhi Daredevils                          & Royal Challengers Bangalore               & bat                                       & normal                                    & 0                                         & Royal Challengers Bangalore               & 15                                        &  0                                        & KM Jadhav                                 & M Chinnaswamy Stadium                     & NA                                        & NA                                        & NA                                       \\\\\n",
       "\t 6                                         & 2017                                      & Hyderabad                                 & 09-04-2017                                & Gujarat Lions                             & Sunrisers Hyderabad                       & Sunrisers Hyderabad                       & field                                     & normal                                    & 0                                         & Sunrisers Hyderabad                       &  0                                        &  9                                        & Rashid Khan                               & Rajiv Gandhi International Stadium, Uppal & A Deshmukh                                & NJ Llong                                  & NA                                       \\\\\n",
       "\\end{tabular}\n"
      ],
      "text/markdown": [
       "\n",
       "| id | season | city | date | team1 | team2 | toss_winner | toss_decision | result | dl_applied | winner | win_by_runs | win_by_wickets | player_of_match | venue | umpire1 | umpire2 | umpire3 |\n",
       "|---|---|---|---|---|---|---|---|---|---|---|---|---|---|---|---|---|---|\n",
       "| 1                                         | 2017                                      | Hyderabad                                 | 05-04-2017                                | Sunrisers Hyderabad                       | Royal Challengers Bangalore               | Royal Challengers Bangalore               | field                                     | normal                                    | 0                                         | Sunrisers Hyderabad                       | 35                                        |  0                                        | Yuvraj Singh                              | Rajiv Gandhi International Stadium, Uppal | AY Dandekar                               | NJ Llong                                  | NA                                        |\n",
       "| 2                                         | 2017                                      | Pune                                      | 06-04-2017                                | Mumbai Indians                            | Rising Pune Supergiant                    | Rising Pune Supergiant                    | field                                     | normal                                    | 0                                         | Rising Pune Supergiant                    |  0                                        |  7                                        | SPD Smith                                 | Maharashtra Cricket Association Stadium   | A Nand Kishore                            | S Ravi                                    | NA                                        |\n",
       "| 3                                         | 2017                                      | Rajkot                                    | 07-04-2017                                | Gujarat Lions                             | Kolkata Knight Riders                     | Kolkata Knight Riders                     | field                                     | normal                                    | 0                                         | Kolkata Knight Riders                     |  0                                        | 10                                        | CA Lynn                                   | Saurashtra Cricket Association Stadium    | Nitin Menon                               | CK Nandan                                 | NA                                        |\n",
       "| 4                                         | 2017                                      | Indore                                    | 08-04-2017                                | Rising Pune Supergiant                    | Kings XI Punjab                           | Kings XI Punjab                           | field                                     | normal                                    | 0                                         | Kings XI Punjab                           |  0                                        |  6                                        | GJ Maxwell                                | Holkar Cricket Stadium                    | AK Chaudhary                              | C Shamshuddin                             | NA                                        |\n",
       "| 5                                         | 2017                                      | Bangalore                                 | 08-04-2017                                | Royal Challengers Bangalore               | Delhi Daredevils                          | Royal Challengers Bangalore               | bat                                       | normal                                    | 0                                         | Royal Challengers Bangalore               | 15                                        |  0                                        | KM Jadhav                                 | M Chinnaswamy Stadium                     | NA                                        | NA                                        | NA                                        |\n",
       "| 6                                         | 2017                                      | Hyderabad                                 | 09-04-2017                                | Gujarat Lions                             | Sunrisers Hyderabad                       | Sunrisers Hyderabad                       | field                                     | normal                                    | 0                                         | Sunrisers Hyderabad                       |  0                                        |  9                                        | Rashid Khan                               | Rajiv Gandhi International Stadium, Uppal | A Deshmukh                                | NJ Llong                                  | NA                                        |\n",
       "\n"
      ],
      "text/plain": [
       "  id season city      date       team1                      \n",
       "1 1  2017   Hyderabad 05-04-2017 Sunrisers Hyderabad        \n",
       "2 2  2017   Pune      06-04-2017 Mumbai Indians             \n",
       "3 3  2017   Rajkot    07-04-2017 Gujarat Lions              \n",
       "4 4  2017   Indore    08-04-2017 Rising Pune Supergiant     \n",
       "5 5  2017   Bangalore 08-04-2017 Royal Challengers Bangalore\n",
       "6 6  2017   Hyderabad 09-04-2017 Gujarat Lions              \n",
       "  team2                       toss_winner                 toss_decision result\n",
       "1 Royal Challengers Bangalore Royal Challengers Bangalore field         normal\n",
       "2 Rising Pune Supergiant      Rising Pune Supergiant      field         normal\n",
       "3 Kolkata Knight Riders       Kolkata Knight Riders       field         normal\n",
       "4 Kings XI Punjab             Kings XI Punjab             field         normal\n",
       "5 Delhi Daredevils            Royal Challengers Bangalore bat           normal\n",
       "6 Sunrisers Hyderabad         Sunrisers Hyderabad         field         normal\n",
       "  dl_applied winner                      win_by_runs win_by_wickets\n",
       "1 0          Sunrisers Hyderabad         35           0            \n",
       "2 0          Rising Pune Supergiant       0           7            \n",
       "3 0          Kolkata Knight Riders        0          10            \n",
       "4 0          Kings XI Punjab              0           6            \n",
       "5 0          Royal Challengers Bangalore 15           0            \n",
       "6 0          Sunrisers Hyderabad          0           9            \n",
       "  player_of_match venue                                     umpire1       \n",
       "1 Yuvraj Singh    Rajiv Gandhi International Stadium, Uppal AY Dandekar   \n",
       "2 SPD Smith       Maharashtra Cricket Association Stadium   A Nand Kishore\n",
       "3 CA Lynn         Saurashtra Cricket Association Stadium    Nitin Menon   \n",
       "4 GJ Maxwell      Holkar Cricket Stadium                    AK Chaudhary  \n",
       "5 KM Jadhav       M Chinnaswamy Stadium                     NA            \n",
       "6 Rashid Khan     Rajiv Gandhi International Stadium, Uppal A Deshmukh    \n",
       "  umpire2       umpire3\n",
       "1 NJ Llong      NA     \n",
       "2 S Ravi        NA     \n",
       "3 CK Nandan     NA     \n",
       "4 C Shamshuddin NA     \n",
       "5 NA            NA     \n",
       "6 NJ Llong      NA     "
      ]
     },
     "metadata": {},
     "output_type": "display_data"
    }
   ],
   "source": [
    "head(match)"
   ]
  },
  {
   "cell_type": "code",
   "execution_count": 179,
   "metadata": {},
   "outputs": [],
   "source": [
    "deliveries<-read.csv(\"C:/Users/user/Desktop/spark/deliveries.csv\",stringsAsFactors=FALSE ,na.strings=c(\"\",\"NA\"))"
   ]
  },
  {
   "cell_type": "code",
   "execution_count": 140,
   "metadata": {},
   "outputs": [
    {
     "data": {
      "text/html": [
       "<table>\n",
       "<thead><tr><th scope=col>match_id</th><th scope=col>inning</th><th scope=col>batting_team</th><th scope=col>bowling_team</th><th scope=col>over</th><th scope=col>ball</th><th scope=col>batsman</th><th scope=col>non_striker</th><th scope=col>bowler</th><th scope=col>is_super_over</th><th scope=col>...</th><th scope=col>bye_runs</th><th scope=col>legbye_runs</th><th scope=col>noball_runs</th><th scope=col>penalty_runs</th><th scope=col>batsman_runs</th><th scope=col>extra_runs</th><th scope=col>total_runs</th><th scope=col>player_dismissed</th><th scope=col>dismissal_kind</th><th scope=col>fielder</th></tr></thead>\n",
       "<tbody>\n",
       "\t<tr><td>1                          </td><td>1                          </td><td>Sunrisers Hyderabad        </td><td>Royal Challengers Bangalore</td><td>1                          </td><td>1                          </td><td>DA Warner                  </td><td>S Dhawan                   </td><td>TS Mills                   </td><td>0                          </td><td>...                        </td><td>0                          </td><td>0                          </td><td>0                          </td><td>0                          </td><td>0                          </td><td>0                          </td><td>0                          </td><td>NA                         </td><td>NA                         </td><td>NA                         </td></tr>\n",
       "\t<tr><td>1                          </td><td>1                          </td><td>Sunrisers Hyderabad        </td><td>Royal Challengers Bangalore</td><td>1                          </td><td>2                          </td><td>DA Warner                  </td><td>S Dhawan                   </td><td>TS Mills                   </td><td>0                          </td><td>...                        </td><td>0                          </td><td>0                          </td><td>0                          </td><td>0                          </td><td>0                          </td><td>0                          </td><td>0                          </td><td>NA                         </td><td>NA                         </td><td>NA                         </td></tr>\n",
       "\t<tr><td>1                          </td><td>1                          </td><td>Sunrisers Hyderabad        </td><td>Royal Challengers Bangalore</td><td>1                          </td><td>3                          </td><td>DA Warner                  </td><td>S Dhawan                   </td><td>TS Mills                   </td><td>0                          </td><td>...                        </td><td>0                          </td><td>0                          </td><td>0                          </td><td>0                          </td><td>4                          </td><td>0                          </td><td>4                          </td><td>NA                         </td><td>NA                         </td><td>NA                         </td></tr>\n",
       "\t<tr><td>1                          </td><td>1                          </td><td>Sunrisers Hyderabad        </td><td>Royal Challengers Bangalore</td><td>1                          </td><td>4                          </td><td>DA Warner                  </td><td>S Dhawan                   </td><td>TS Mills                   </td><td>0                          </td><td>...                        </td><td>0                          </td><td>0                          </td><td>0                          </td><td>0                          </td><td>0                          </td><td>0                          </td><td>0                          </td><td>NA                         </td><td>NA                         </td><td>NA                         </td></tr>\n",
       "\t<tr><td>1                          </td><td>1                          </td><td>Sunrisers Hyderabad        </td><td>Royal Challengers Bangalore</td><td>1                          </td><td>5                          </td><td>DA Warner                  </td><td>S Dhawan                   </td><td>TS Mills                   </td><td>0                          </td><td>...                        </td><td>0                          </td><td>0                          </td><td>0                          </td><td>0                          </td><td>0                          </td><td>2                          </td><td>2                          </td><td>NA                         </td><td>NA                         </td><td>NA                         </td></tr>\n",
       "\t<tr><td>1                          </td><td>1                          </td><td>Sunrisers Hyderabad        </td><td>Royal Challengers Bangalore</td><td>1                          </td><td>6                          </td><td>S Dhawan                   </td><td>DA Warner                  </td><td>TS Mills                   </td><td>0                          </td><td>...                        </td><td>0                          </td><td>0                          </td><td>0                          </td><td>0                          </td><td>0                          </td><td>0                          </td><td>0                          </td><td>NA                         </td><td>NA                         </td><td>NA                         </td></tr>\n",
       "</tbody>\n",
       "</table>\n"
      ],
      "text/latex": [
       "\\begin{tabular}{r|lllllllllllllllllllll}\n",
       " match\\_id & inning & batting\\_team & bowling\\_team & over & ball & batsman & non\\_striker & bowler & is\\_super\\_over & ... & bye\\_runs & legbye\\_runs & noball\\_runs & penalty\\_runs & batsman\\_runs & extra\\_runs & total\\_runs & player\\_dismissed & dismissal\\_kind & fielder\\\\\n",
       "\\hline\n",
       "\t 1                           & 1                           & Sunrisers Hyderabad         & Royal Challengers Bangalore & 1                           & 1                           & DA Warner                   & S Dhawan                    & TS Mills                    & 0                           & ...                         & 0                           & 0                           & 0                           & 0                           & 0                           & 0                           & 0                           & NA                          & NA                          & NA                         \\\\\n",
       "\t 1                           & 1                           & Sunrisers Hyderabad         & Royal Challengers Bangalore & 1                           & 2                           & DA Warner                   & S Dhawan                    & TS Mills                    & 0                           & ...                         & 0                           & 0                           & 0                           & 0                           & 0                           & 0                           & 0                           & NA                          & NA                          & NA                         \\\\\n",
       "\t 1                           & 1                           & Sunrisers Hyderabad         & Royal Challengers Bangalore & 1                           & 3                           & DA Warner                   & S Dhawan                    & TS Mills                    & 0                           & ...                         & 0                           & 0                           & 0                           & 0                           & 4                           & 0                           & 4                           & NA                          & NA                          & NA                         \\\\\n",
       "\t 1                           & 1                           & Sunrisers Hyderabad         & Royal Challengers Bangalore & 1                           & 4                           & DA Warner                   & S Dhawan                    & TS Mills                    & 0                           & ...                         & 0                           & 0                           & 0                           & 0                           & 0                           & 0                           & 0                           & NA                          & NA                          & NA                         \\\\\n",
       "\t 1                           & 1                           & Sunrisers Hyderabad         & Royal Challengers Bangalore & 1                           & 5                           & DA Warner                   & S Dhawan                    & TS Mills                    & 0                           & ...                         & 0                           & 0                           & 0                           & 0                           & 0                           & 2                           & 2                           & NA                          & NA                          & NA                         \\\\\n",
       "\t 1                           & 1                           & Sunrisers Hyderabad         & Royal Challengers Bangalore & 1                           & 6                           & S Dhawan                    & DA Warner                   & TS Mills                    & 0                           & ...                         & 0                           & 0                           & 0                           & 0                           & 0                           & 0                           & 0                           & NA                          & NA                          & NA                         \\\\\n",
       "\\end{tabular}\n"
      ],
      "text/markdown": [
       "\n",
       "| match_id | inning | batting_team | bowling_team | over | ball | batsman | non_striker | bowler | is_super_over | ... | bye_runs | legbye_runs | noball_runs | penalty_runs | batsman_runs | extra_runs | total_runs | player_dismissed | dismissal_kind | fielder |\n",
       "|---|---|---|---|---|---|---|---|---|---|---|---|---|---|---|---|---|---|---|---|---|\n",
       "| 1                           | 1                           | Sunrisers Hyderabad         | Royal Challengers Bangalore | 1                           | 1                           | DA Warner                   | S Dhawan                    | TS Mills                    | 0                           | ...                         | 0                           | 0                           | 0                           | 0                           | 0                           | 0                           | 0                           | NA                          | NA                          | NA                          |\n",
       "| 1                           | 1                           | Sunrisers Hyderabad         | Royal Challengers Bangalore | 1                           | 2                           | DA Warner                   | S Dhawan                    | TS Mills                    | 0                           | ...                         | 0                           | 0                           | 0                           | 0                           | 0                           | 0                           | 0                           | NA                          | NA                          | NA                          |\n",
       "| 1                           | 1                           | Sunrisers Hyderabad         | Royal Challengers Bangalore | 1                           | 3                           | DA Warner                   | S Dhawan                    | TS Mills                    | 0                           | ...                         | 0                           | 0                           | 0                           | 0                           | 4                           | 0                           | 4                           | NA                          | NA                          | NA                          |\n",
       "| 1                           | 1                           | Sunrisers Hyderabad         | Royal Challengers Bangalore | 1                           | 4                           | DA Warner                   | S Dhawan                    | TS Mills                    | 0                           | ...                         | 0                           | 0                           | 0                           | 0                           | 0                           | 0                           | 0                           | NA                          | NA                          | NA                          |\n",
       "| 1                           | 1                           | Sunrisers Hyderabad         | Royal Challengers Bangalore | 1                           | 5                           | DA Warner                   | S Dhawan                    | TS Mills                    | 0                           | ...                         | 0                           | 0                           | 0                           | 0                           | 0                           | 2                           | 2                           | NA                          | NA                          | NA                          |\n",
       "| 1                           | 1                           | Sunrisers Hyderabad         | Royal Challengers Bangalore | 1                           | 6                           | S Dhawan                    | DA Warner                   | TS Mills                    | 0                           | ...                         | 0                           | 0                           | 0                           | 0                           | 0                           | 0                           | 0                           | NA                          | NA                          | NA                          |\n",
       "\n"
      ],
      "text/plain": [
       "  match_id inning batting_team        bowling_team                over ball\n",
       "1 1        1      Sunrisers Hyderabad Royal Challengers Bangalore 1    1   \n",
       "2 1        1      Sunrisers Hyderabad Royal Challengers Bangalore 1    2   \n",
       "3 1        1      Sunrisers Hyderabad Royal Challengers Bangalore 1    3   \n",
       "4 1        1      Sunrisers Hyderabad Royal Challengers Bangalore 1    4   \n",
       "5 1        1      Sunrisers Hyderabad Royal Challengers Bangalore 1    5   \n",
       "6 1        1      Sunrisers Hyderabad Royal Challengers Bangalore 1    6   \n",
       "  batsman   non_striker bowler   is_super_over ... bye_runs legbye_runs\n",
       "1 DA Warner S Dhawan    TS Mills 0             ... 0        0          \n",
       "2 DA Warner S Dhawan    TS Mills 0             ... 0        0          \n",
       "3 DA Warner S Dhawan    TS Mills 0             ... 0        0          \n",
       "4 DA Warner S Dhawan    TS Mills 0             ... 0        0          \n",
       "5 DA Warner S Dhawan    TS Mills 0             ... 0        0          \n",
       "6 S Dhawan  DA Warner   TS Mills 0             ... 0        0          \n",
       "  noball_runs penalty_runs batsman_runs extra_runs total_runs player_dismissed\n",
       "1 0           0            0            0          0          NA              \n",
       "2 0           0            0            0          0          NA              \n",
       "3 0           0            4            0          4          NA              \n",
       "4 0           0            0            0          0          NA              \n",
       "5 0           0            0            2          2          NA              \n",
       "6 0           0            0            0          0          NA              \n",
       "  dismissal_kind fielder\n",
       "1 NA             NA     \n",
       "2 NA             NA     \n",
       "3 NA             NA     \n",
       "4 NA             NA     \n",
       "5 NA             NA     \n",
       "6 NA             NA     "
      ]
     },
     "metadata": {},
     "output_type": "display_data"
    }
   ],
   "source": [
    "head(deliveries)"
   ]
  },
  {
   "cell_type": "code",
   "execution_count": 4,
   "metadata": {},
   "outputs": [],
   "source": [
    "library(plyr)\n",
    "library(dplyr)\n"
   ]
  },
  {
   "cell_type": "markdown",
   "metadata": {},
   "source": [
    "# Total Seaosn in IPL"
   ]
  },
  {
   "cell_type": "code",
   "execution_count": 6,
   "metadata": {},
   "outputs": [
    {
     "data": {
      "text/html": [
       "12"
      ],
      "text/latex": [
       "12"
      ],
      "text/markdown": [
       "12"
      ],
      "text/plain": [
       "[1] 12"
      ]
     },
     "metadata": {},
     "output_type": "display_data"
    }
   ],
   "source": [
    "Total_season<-length(unique(match$season))\n",
    "Total_season"
   ]
  },
  {
   "cell_type": "markdown",
   "metadata": {},
   "source": [
    "# Total Matches"
   ]
  },
  {
   "cell_type": "code",
   "execution_count": 5,
   "metadata": {},
   "outputs": [
    {
     "data": {
      "text/html": [
       "<table>\n",
       "<thead><tr><th scope=col>match_counr</th></tr></thead>\n",
       "<tbody>\n",
       "\t<tr><td>756</td></tr>\n",
       "</tbody>\n",
       "</table>\n"
      ],
      "text/latex": [
       "\\begin{tabular}{r|l}\n",
       " match\\_counr\\\\\n",
       "\\hline\n",
       "\t 756\\\\\n",
       "\\end{tabular}\n"
      ],
      "text/markdown": [
       "\n",
       "| match_counr |\n",
       "|---|\n",
       "| 756 |\n",
       "\n"
      ],
      "text/plain": [
       "  match_counr\n",
       "1 756        "
      ]
     },
     "metadata": {},
     "output_type": "display_data"
    }
   ],
   "source": [
    "match %>% summarise(match_counr=n())"
   ]
  },
  {
   "cell_type": "raw",
   "metadata": {},
   "source": [
    "so there were 756 matches held overall in 12 seasons"
   ]
  },
  {
   "cell_type": "markdown",
   "metadata": {},
   "source": [
    "# Domination Venue for certain team"
   ]
  },
  {
   "cell_type": "code",
   "execution_count": 192,
   "metadata": {},
   "outputs": [
    {
     "data": {
      "text/html": [
       "<table>\n",
       "<thead><tr><th scope=col>winner</th><th scope=col>city</th><th scope=col>win</th></tr></thead>\n",
       "<tbody>\n",
       "\t<tr><td>Mumbai Indians             </td><td>Mumbai                     </td><td>53                         </td></tr>\n",
       "\t<tr><td>Kolkata Knight Riders      </td><td>Kolkata                    </td><td>45                         </td></tr>\n",
       "\t<tr><td>Chennai Super Kings        </td><td>Chennai                    </td><td>40                         </td></tr>\n",
       "\t<tr><td>Rajasthan Royals           </td><td>Jaipur                     </td><td>32                         </td></tr>\n",
       "\t<tr><td>Royal Challengers Bangalore</td><td>Bangalore                  </td><td>30                         </td></tr>\n",
       "\t<tr><td>Sunrisers Hyderabad        </td><td>Hyderabad                  </td><td>30                         </td></tr>\n",
       "</tbody>\n",
       "</table>\n"
      ],
      "text/latex": [
       "\\begin{tabular}{r|lll}\n",
       " winner & city & win\\\\\n",
       "\\hline\n",
       "\t Mumbai Indians              & Mumbai                      & 53                         \\\\\n",
       "\t Kolkata Knight Riders       & Kolkata                     & 45                         \\\\\n",
       "\t Chennai Super Kings         & Chennai                     & 40                         \\\\\n",
       "\t Rajasthan Royals            & Jaipur                      & 32                         \\\\\n",
       "\t Royal Challengers Bangalore & Bangalore                   & 30                         \\\\\n",
       "\t Sunrisers Hyderabad         & Hyderabad                   & 30                         \\\\\n",
       "\\end{tabular}\n"
      ],
      "text/markdown": [
       "\n",
       "| winner | city | win |\n",
       "|---|---|---|\n",
       "| Mumbai Indians              | Mumbai                      | 53                          |\n",
       "| Kolkata Knight Riders       | Kolkata                     | 45                          |\n",
       "| Chennai Super Kings         | Chennai                     | 40                          |\n",
       "| Rajasthan Royals            | Jaipur                      | 32                          |\n",
       "| Royal Challengers Bangalore | Bangalore                   | 30                          |\n",
       "| Sunrisers Hyderabad         | Hyderabad                   | 30                          |\n",
       "\n"
      ],
      "text/plain": [
       "  winner                      city      win\n",
       "1 Mumbai Indians              Mumbai    53 \n",
       "2 Kolkata Knight Riders       Kolkata   45 \n",
       "3 Chennai Super Kings         Chennai   40 \n",
       "4 Rajasthan Royals            Jaipur    32 \n",
       "5 Royal Challengers Bangalore Bangalore 30 \n",
       "6 Sunrisers Hyderabad         Hyderabad 30 "
      ]
     },
     "metadata": {},
     "output_type": "display_data"
    }
   ],
   "source": [
    "head(match%>% filter(result !=\"no result\") %>% group_by(winner,city ) %>% summarise(win=n()) %>% arrange(desc(win)))#n() is for row count\n"
   ]
  },
  {
   "cell_type": "markdown",
   "metadata": {},
   "source": [
    "From the list we see Mumbaui Indians Munbai."
   ]
  },
  {
   "cell_type": "markdown",
   "metadata": {},
   "source": [
    "#  Most Sucessful IPL team"
   ]
  },
  {
   "cell_type": "code",
   "execution_count": 193,
   "metadata": {},
   "outputs": [],
   "source": [
    "library(ggplot2)"
   ]
  },
  {
   "cell_type": "code",
   "execution_count": 7,
   "metadata": {},
   "outputs": [
    {
     "data": {
      "text/html": [
       "<table>\n",
       "<thead><tr><th scope=col>winner</th><th scope=col>wins</th></tr></thead>\n",
       "<tbody>\n",
       "\t<tr><td>Mumbai Indians</td><td>109           </td></tr>\n",
       "</tbody>\n",
       "</table>\n"
      ],
      "text/latex": [
       "\\begin{tabular}{r|ll}\n",
       " winner & wins\\\\\n",
       "\\hline\n",
       "\t Mumbai Indians & 109           \\\\\n",
       "\\end{tabular}\n"
      ],
      "text/markdown": [
       "\n",
       "| winner | wins |\n",
       "|---|---|\n",
       "| Mumbai Indians | 109            |\n",
       "\n"
      ],
      "text/plain": [
       "  winner         wins\n",
       "1 Mumbai Indians 109 "
      ]
     },
     "metadata": {},
     "output_type": "display_data"
    }
   ],
   "source": [
    "match %>% group_by(winner) %>% summarise(wins=n()) %>% filter(wins==max(wins))"
   ]
  },
  {
   "cell_type": "code",
   "execution_count": 9,
   "metadata": {},
   "outputs": [],
   "source": [
    "# plotiing a graph"
   ]
  },
  {
   "cell_type": "code",
   "execution_count": 10,
   "metadata": {},
   "outputs": [
    {
     "data": {
      "image/png": "[encoded data removed]",
      "text/plain": [
       "plot without title"
      ]
     },
     "metadata": {
      "image/png": {
       "height": 420,
       "width": 420
      }
     },
     "output_type": "display_data"
    }
   ],
   "source": [
    "match %>% group_by(winner) %>% summarise(wins=n()) %>% ggplot(aes(x=winner,y=wins, fill=winner))+geom_bar(stat=\"identity\")+\n",
    "coord_flip()+scale_y_continuous(\"Total Match Won\")"
   ]
  },
  {
   "cell_type": "raw",
   "metadata": {},
   "source": [
    "we see MI won 109 matches , the most wins."
   ]
  },
  {
   "cell_type": "markdown",
   "metadata": {},
   "source": [
    "# Most Number of time \"Man of the Match awarded\" Till now:"
   ]
  },
  {
   "cell_type": "code",
   "execution_count": 14,
   "metadata": {},
   "outputs": [],
   "source": [
    "library(tidyr)\n",
    "\n"
   ]
  },
  {
   "cell_type": "code",
   "execution_count": 12,
   "metadata": {},
   "outputs": [
    {
     "data": {
      "text/html": [
       "<table>\n",
       "<thead><tr><th scope=col>player_of_match</th><th scope=col>win</th></tr></thead>\n",
       "<tbody>\n",
       "\t<tr><td>CH Gayle      </td><td>21            </td></tr>\n",
       "\t<tr><td>AB de Villiers</td><td>20            </td></tr>\n",
       "\t<tr><td>DA Warner     </td><td>17            </td></tr>\n",
       "\t<tr><td>MS Dhoni      </td><td>17            </td></tr>\n",
       "\t<tr><td>RG Sharma     </td><td>17            </td></tr>\n",
       "\t<tr><td>YK Pathan     </td><td>16            </td></tr>\n",
       "</tbody>\n",
       "</table>\n"
      ],
      "text/latex": [
       "\\begin{tabular}{r|ll}\n",
       " player\\_of\\_match & win\\\\\n",
       "\\hline\n",
       "\t CH Gayle       & 21            \\\\\n",
       "\t AB de Villiers & 20            \\\\\n",
       "\t DA Warner      & 17            \\\\\n",
       "\t MS Dhoni       & 17            \\\\\n",
       "\t RG Sharma      & 17            \\\\\n",
       "\t YK Pathan      & 16            \\\\\n",
       "\\end{tabular}\n"
      ],
      "text/markdown": [
       "\n",
       "| player_of_match | win |\n",
       "|---|---|\n",
       "| CH Gayle       | 21             |\n",
       "| AB de Villiers | 20             |\n",
       "| DA Warner      | 17             |\n",
       "| MS Dhoni       | 17             |\n",
       "| RG Sharma      | 17             |\n",
       "| YK Pathan      | 16             |\n",
       "\n"
      ],
      "text/plain": [
       "  player_of_match win\n",
       "1 CH Gayle        21 \n",
       "2 AB de Villiers  20 \n",
       "3 DA Warner       17 \n",
       "4 MS Dhoni        17 \n",
       "5 RG Sharma       17 \n",
       "6 YK Pathan       16 "
      ]
     },
     "metadata": {},
     "output_type": "display_data"
    }
   ],
   "source": [
    "MOM<-match%>% filter(result !='no result') %>% group_by(player_of_match) %>% summarise(win=n() ) %>% arrange(desc(win))#n() is for row count\n",
    "head(MOM)"
   ]
  },
  {
   "cell_type": "markdown",
   "metadata": {},
   "source": [
    "CH Gayle is awarded most man of the match award"
   ]
  },
  {
   "cell_type": "markdown",
   "metadata": {},
   "source": [
    "#  Season with most number of matches"
   ]
  },
  {
   "cell_type": "code",
   "execution_count": 16,
   "metadata": {},
   "outputs": [
    {
     "data": {
      "text/html": [
       "<table>\n",
       "<thead><tr><th scope=col>season</th><th scope=col>Total_match</th></tr></thead>\n",
       "<tbody>\n",
       "\t<tr><td>2013</td><td>76  </td></tr>\n",
       "</tbody>\n",
       "</table>\n"
      ],
      "text/latex": [
       "\\begin{tabular}{r|ll}\n",
       " season & Total\\_match\\\\\n",
       "\\hline\n",
       "\t 2013 & 76  \\\\\n",
       "\\end{tabular}\n"
      ],
      "text/markdown": [
       "\n",
       "| season | Total_match |\n",
       "|---|---|\n",
       "| 2013 | 76   |\n",
       "\n"
      ],
      "text/plain": [
       "  season Total_match\n",
       "1 2013   76         "
      ]
     },
     "metadata": {},
     "output_type": "display_data"
    }
   ],
   "source": [
    "match %>% group_by (season) %>% summarise(Total_match=n()) %>% filter (Total_match==max(Total_match))"
   ]
  },
  {
   "cell_type": "code",
   "execution_count": 17,
   "metadata": {},
   "outputs": [
    {
     "data": {
      "image/png": "[encoded data removed]",
      "text/plain": [
       "plot without title"
      ]
     },
     "metadata": {
      "image/png": {
       "height": 420,
       "width": 420
      }
     },
     "output_type": "display_data"
    }
   ],
   "source": [
    "match %>% group_by (season) %>% summarise(Total_match=n()) %>% ggplot(aes(season, Total_match,fill=season))+geom_bar(stat='identity')"
   ]
  },
  {
   "cell_type": "markdown",
   "metadata": {},
   "source": [
    "# Which Team had won by maximum runs?"
   ]
  },
  {
   "cell_type": "code",
   "execution_count": 18,
   "metadata": {},
   "outputs": [
    {
     "data": {
      "text/html": [
       "<table>\n",
       "<thead><tr><th></th><th scope=col>winner</th><th scope=col>win_by_runs</th><th scope=col>season</th></tr></thead>\n",
       "<tbody>\n",
       "\t<tr><th scope=row>44</th><td>Mumbai Indians</td><td>146           </td><td>2017          </td></tr>\n",
       "</tbody>\n",
       "</table>\n"
      ],
      "text/latex": [
       "\\begin{tabular}{r|lll}\n",
       "  & winner & win\\_by\\_runs & season\\\\\n",
       "\\hline\n",
       "\t44 & Mumbai Indians & 146            & 2017          \\\\\n",
       "\\end{tabular}\n"
      ],
      "text/markdown": [
       "\n",
       "| <!--/--> | winner | win_by_runs | season |\n",
       "|---|---|---|---|\n",
       "| 44 | Mumbai Indians | 146            | 2017           |\n",
       "\n"
      ],
      "text/plain": [
       "   winner         win_by_runs season\n",
       "44 Mumbai Indians 146         2017  "
      ]
     },
     "metadata": {},
     "output_type": "display_data"
    }
   ],
   "source": [
    "max_runs=match[which.max(match$win_by_runs),]\n",
    "max_runs %>% select('winner','win_by_runs','season')"
   ]
  },
  {
   "cell_type": "markdown",
   "metadata": {},
   "source": [
    "# Which Team had won by maximum wicket?"
   ]
  },
  {
   "cell_type": "code",
   "execution_count": 19,
   "metadata": {},
   "outputs": [
    {
     "data": {
      "text/html": [
       "<table>\n",
       "<thead><tr><th scope=col>winner</th><th scope=col>win_by_wickets</th><th scope=col>season</th></tr></thead>\n",
       "<tbody>\n",
       "\t<tr><td>Kolkata Knight Riders      </td><td>10                         </td><td>2017                       </td></tr>\n",
       "\t<tr><td>Kings XI Punjab            </td><td>10                         </td><td>2017                       </td></tr>\n",
       "\t<tr><td>Deccan Chargers            </td><td>10                         </td><td>2008                       </td></tr>\n",
       "\t<tr><td>Delhi Daredevils           </td><td>10                         </td><td>2009                       </td></tr>\n",
       "\t<tr><td>Royal Challengers Bangalore</td><td>10                         </td><td>2010                       </td></tr>\n",
       "\t<tr><td>Rajasthan Royals           </td><td>10                         </td><td>2011                       </td></tr>\n",
       "\t<tr><td>Mumbai Indians             </td><td>10                         </td><td>2012                       </td></tr>\n",
       "\t<tr><td>Chennai Super Kings        </td><td>10                         </td><td>2013                       </td></tr>\n",
       "\t<tr><td>Royal Challengers Bangalore</td><td>10                         </td><td>2015                       </td></tr>\n",
       "\t<tr><td>Sunrisers Hyderabad        </td><td>10                         </td><td>2016                       </td></tr>\n",
       "\t<tr><td>Royal Challengers Bangalore</td><td>10                         </td><td>2018                       </td></tr>\n",
       "</tbody>\n",
       "</table>\n"
      ],
      "text/latex": [
       "\\begin{tabular}{r|lll}\n",
       " winner & win\\_by\\_wickets & season\\\\\n",
       "\\hline\n",
       "\t Kolkata Knight Riders       & 10                          & 2017                       \\\\\n",
       "\t Kings XI Punjab             & 10                          & 2017                       \\\\\n",
       "\t Deccan Chargers             & 10                          & 2008                       \\\\\n",
       "\t Delhi Daredevils            & 10                          & 2009                       \\\\\n",
       "\t Royal Challengers Bangalore & 10                          & 2010                       \\\\\n",
       "\t Rajasthan Royals            & 10                          & 2011                       \\\\\n",
       "\t Mumbai Indians              & 10                          & 2012                       \\\\\n",
       "\t Chennai Super Kings         & 10                          & 2013                       \\\\\n",
       "\t Royal Challengers Bangalore & 10                          & 2015                       \\\\\n",
       "\t Sunrisers Hyderabad         & 10                          & 2016                       \\\\\n",
       "\t Royal Challengers Bangalore & 10                          & 2018                       \\\\\n",
       "\\end{tabular}\n"
      ],
      "text/markdown": [
       "\n",
       "| winner | win_by_wickets | season |\n",
       "|---|---|---|\n",
       "| Kolkata Knight Riders       | 10                          | 2017                        |\n",
       "| Kings XI Punjab             | 10                          | 2017                        |\n",
       "| Deccan Chargers             | 10                          | 2008                        |\n",
       "| Delhi Daredevils            | 10                          | 2009                        |\n",
       "| Royal Challengers Bangalore | 10                          | 2010                        |\n",
       "| Rajasthan Royals            | 10                          | 2011                        |\n",
       "| Mumbai Indians              | 10                          | 2012                        |\n",
       "| Chennai Super Kings         | 10                          | 2013                        |\n",
       "| Royal Challengers Bangalore | 10                          | 2015                        |\n",
       "| Sunrisers Hyderabad         | 10                          | 2016                        |\n",
       "| Royal Challengers Bangalore | 10                          | 2018                        |\n",
       "\n"
      ],
      "text/plain": [
       "   winner                      win_by_wickets season\n",
       "1  Kolkata Knight Riders       10             2017  \n",
       "2  Kings XI Punjab             10             2017  \n",
       "3  Deccan Chargers             10             2008  \n",
       "4  Delhi Daredevils            10             2009  \n",
       "5  Royal Challengers Bangalore 10             2010  \n",
       "6  Rajasthan Royals            10             2011  \n",
       "7  Mumbai Indians              10             2012  \n",
       "8  Chennai Super Kings         10             2013  \n",
       "9  Royal Challengers Bangalore 10             2015  \n",
       "10 Sunrisers Hyderabad         10             2016  \n",
       "11 Royal Challengers Bangalore 10             2018  "
      ]
     },
     "metadata": {},
     "output_type": "display_data"
    }
   ],
   "source": [
    "match %>% filter(win_by_wickets==max(win_by_wickets)) %>% select('winner','win_by_wickets','season')"
   ]
  },
  {
   "cell_type": "markdown",
   "metadata": {},
   "source": [
    "# Which team won by minimum run?"
   ]
  },
  {
   "cell_type": "code",
   "execution_count": 20,
   "metadata": {},
   "outputs": [
    {
     "data": {
      "text/html": [
       "<table>\n",
       "<thead><tr><th scope=col>winner</th><th scope=col>win_by_runs</th><th scope=col>season</th></tr></thead>\n",
       "<tbody>\n",
       "\t<tr><td>Mumbai Indians             </td><td>1                          </td><td>2017                       </td></tr>\n",
       "\t<tr><td>Kings XI Punjab            </td><td>1                          </td><td>2008                       </td></tr>\n",
       "\t<tr><td>Kings XI Punjab            </td><td>1                          </td><td>2009                       </td></tr>\n",
       "\t<tr><td>Delhi Daredevils           </td><td>1                          </td><td>2012                       </td></tr>\n",
       "\t<tr><td>Mumbai Indians             </td><td>1                          </td><td>2012                       </td></tr>\n",
       "\t<tr><td>Chennai Super Kings        </td><td>1                          </td><td>2015                       </td></tr>\n",
       "\t<tr><td>Gujarat Lions              </td><td>1                          </td><td>2016                       </td></tr>\n",
       "\t<tr><td>Royal Challengers Bangalore</td><td>1                          </td><td>2016                       </td></tr>\n",
       "\t<tr><td>Royal Challengers Bangalore</td><td>1                          </td><td>2019                       </td></tr>\n",
       "\t<tr><td>Mumbai Indians             </td><td>1                          </td><td>2019                       </td></tr>\n",
       "</tbody>\n",
       "</table>\n"
      ],
      "text/latex": [
       "\\begin{tabular}{r|lll}\n",
       " winner & win\\_by\\_runs & season\\\\\n",
       "\\hline\n",
       "\t Mumbai Indians              & 1                           & 2017                       \\\\\n",
       "\t Kings XI Punjab             & 1                           & 2008                       \\\\\n",
       "\t Kings XI Punjab             & 1                           & 2009                       \\\\\n",
       "\t Delhi Daredevils            & 1                           & 2012                       \\\\\n",
       "\t Mumbai Indians              & 1                           & 2012                       \\\\\n",
       "\t Chennai Super Kings         & 1                           & 2015                       \\\\\n",
       "\t Gujarat Lions               & 1                           & 2016                       \\\\\n",
       "\t Royal Challengers Bangalore & 1                           & 2016                       \\\\\n",
       "\t Royal Challengers Bangalore & 1                           & 2019                       \\\\\n",
       "\t Mumbai Indians              & 1                           & 2019                       \\\\\n",
       "\\end{tabular}\n"
      ],
      "text/markdown": [
       "\n",
       "| winner | win_by_runs | season |\n",
       "|---|---|---|\n",
       "| Mumbai Indians              | 1                           | 2017                        |\n",
       "| Kings XI Punjab             | 1                           | 2008                        |\n",
       "| Kings XI Punjab             | 1                           | 2009                        |\n",
       "| Delhi Daredevils            | 1                           | 2012                        |\n",
       "| Mumbai Indians              | 1                           | 2012                        |\n",
       "| Chennai Super Kings         | 1                           | 2015                        |\n",
       "| Gujarat Lions               | 1                           | 2016                        |\n",
       "| Royal Challengers Bangalore | 1                           | 2016                        |\n",
       "| Royal Challengers Bangalore | 1                           | 2019                        |\n",
       "| Mumbai Indians              | 1                           | 2019                        |\n",
       "\n"
      ],
      "text/plain": [
       "   winner                      win_by_runs season\n",
       "1  Mumbai Indians              1           2017  \n",
       "2  Kings XI Punjab             1           2008  \n",
       "3  Kings XI Punjab             1           2009  \n",
       "4  Delhi Daredevils            1           2012  \n",
       "5  Mumbai Indians              1           2012  \n",
       "6  Chennai Super Kings         1           2015  \n",
       "7  Gujarat Lions               1           2016  \n",
       "8  Royal Challengers Bangalore 1           2016  \n",
       "9  Royal Challengers Bangalore 1           2019  \n",
       "10 Mumbai Indians              1           2019  "
      ]
     },
     "metadata": {},
     "output_type": "display_data"
    }
   ],
   "source": [
    "match %>% filter(win_by_runs !=0) %>% filter(win_by_runs==min(win_by_runs)) %>% select('winner','win_by_runs','season')"
   ]
  },
  {
   "cell_type": "markdown",
   "metadata": {},
   "source": [
    "# Which team won by minimum wicket?"
   ]
  },
  {
   "cell_type": "code",
   "execution_count": 21,
   "metadata": {},
   "outputs": [
    {
     "data": {
      "text/html": [
       "<table>\n",
       "<thead><tr><th scope=col>winner</th><th scope=col>win_by_wickets</th><th scope=col>season</th></tr></thead>\n",
       "<tbody>\n",
       "\t<tr><td>Kolkata Knight Riders</td><td>1                    </td><td>2015                 </td></tr>\n",
       "\t<tr><td>Chennai Super Kings  </td><td>1                    </td><td>2018                 </td></tr>\n",
       "\t<tr><td>Sunrisers Hyderabad  </td><td>1                    </td><td>2018                 </td></tr>\n",
       "</tbody>\n",
       "</table>\n"
      ],
      "text/latex": [
       "\\begin{tabular}{r|lll}\n",
       " winner & win\\_by\\_wickets & season\\\\\n",
       "\\hline\n",
       "\t Kolkata Knight Riders & 1                     & 2015                 \\\\\n",
       "\t Chennai Super Kings   & 1                     & 2018                 \\\\\n",
       "\t Sunrisers Hyderabad   & 1                     & 2018                 \\\\\n",
       "\\end{tabular}\n"
      ],
      "text/markdown": [
       "\n",
       "| winner | win_by_wickets | season |\n",
       "|---|---|---|\n",
       "| Kolkata Knight Riders | 1                     | 2015                  |\n",
       "| Chennai Super Kings   | 1                     | 2018                  |\n",
       "| Sunrisers Hyderabad   | 1                     | 2018                  |\n",
       "\n"
      ],
      "text/plain": [
       "  winner                win_by_wickets season\n",
       "1 Kolkata Knight Riders 1              2015  \n",
       "2 Chennai Super Kings   1              2018  \n",
       "3 Sunrisers Hyderabad   1              2018  "
      ]
     },
     "metadata": {},
     "output_type": "display_data"
    }
   ],
   "source": [
    "match %>% filter(win_by_wickets !=0) %>% filter(win_by_wickets==min(win_by_wickets)) %>% select('winner','win_by_wickets','season')"
   ]
  },
  {
   "cell_type": "markdown",
   "metadata": {},
   "source": [
    "# Impact of toss winning on a match"
   ]
  },
  {
   "cell_type": "code",
   "execution_count": 22,
   "metadata": {},
   "outputs": [
    {
     "name": "stdout",
     "output_type": "stream",
     "text": [
      "[1] \"Yes, Toss-winning has an impact of winning a game\"\n",
      "[1] \"Matches won by toss winners are: 393 & Total matches: 756\"\n"
     ]
    }
   ],
   "source": [
    "y=0\n",
    "n=0\n",
    "    for(i in seq(1, nrow(match)))\n",
    "        {\n",
    "         if (match$toss_winner[i]==match$winner[i])\n",
    "        y=y+1\n",
    "        else\n",
    "            n=n+1\n",
    "    }\n",
    "if(y>= n)\n",
    "    {\n",
    "    print(paste(\"Yes, Toss-winning has an impact of winning a game\"))\n",
    "    print(paste(\"Matches won by toss winners are:\",y,\"& Total matches:\",nrow(match)))\n",
    "}else\n",
    "    {\n",
    "    print(paste(\"no, Toss-winning didn't help in winning\"))\n",
    "    print(paste(\"Matches won by other teams are:\",n,\"& Total matches:\",nrow(match)))\n",
    "}"
   ]
  },
  {
   "cell_type": "code",
   "execution_count": 23,
   "metadata": {},
   "outputs": [],
   "source": [
    "winning=c(y,n)\n",
    "teams=c(\"toss_win&game_win\",\"toss_win&game_lost\")\n",
    "df=data.frame(teams,winning,stringAsFactors=F)"
   ]
  },
  {
   "cell_type": "code",
   "execution_count": 24,
   "metadata": {},
   "outputs": [
    {
     "data": {
      "image/png": "[encoded data removed]",
      "text/plain": [
       "plot without title"
      ]
     },
     "metadata": {
      "image/png": {
       "height": 420,
       "width": 420
      }
     },
     "output_type": "display_data"
    }
   ],
   "source": [
    "ggplot(df)+geom_bar(aes(teams,winning,fill=teams),stat='identity')"
   ]
  },
  {
   "cell_type": "markdown",
   "metadata": {},
   "source": [
    "# When team batting first wins"
   ]
  },
  {
   "cell_type": "code",
   "execution_count": 46,
   "metadata": {},
   "outputs": [],
   "source": [
    "library(gridExtra)"
   ]
  },
  {
   "cell_type": "code",
   "execution_count": 56,
   "metadata": {},
   "outputs": [
    {
     "data": {
      "image/png": "[encoded data removed]",
      "text/plain": [
       "plot without title"
      ]
     },
     "metadata": {
      "image/png": {
       "height": 420,
       "width": 420
      }
     },
     "output_type": "display_data"
    }
   ],
   "source": [
    "match[which(as.character(match$team2)==as.character(match$winner)),\"loser\"]<- match[which(as.character(match$team2)==as.character(match$winner)),\"team1\"]\n",
    "match[which(as.character(match$team1)==as.character(match$winner)),\"loser\"]<- match[which(as.character(match$team1)==as.character(match$winner)),\"team2\"]\n",
    "\n",
    "\n",
    "matches1<-match[match$win_by_runs!=0,]\n",
    "closeness<-function(x,y = \"gold\" ){\n",
    "  data1<-matches1[matches1$winner==x|matches1$loser==x,]\n",
    "  data1[data1$loser==x,\"win_by_runs\"]<- -data1[data1$loser==x,\"win_by_runs\"]\n",
    "  ggplot(data1,aes(1:nrow(data1),win_by_runs))+ geom_area(fill=y)+ggtitle(x)+\n",
    "    ylab(\"Runs\")+ xlab(\"Matches\")+ geom_ribbon(aes(ymin=-5, ymax=5),fill=\"red\",alpha=0.4) +geom_ribbon(aes(ymin=-15, ymax=15),fill=\"red\",alpha=0.1) +\n",
    "    guides(fill=FALSE)+scale_alpha(guide = 'none')+coord_cartesian(ylim = c(-100, 100)) \n",
    "}\n",
    "a<-closeness(\"Chennai Super Kings\")\n",
    "b<-closeness(\"Kolkata Knight Riders\",\"purple\")\n",
    "c<-closeness(\"Sunrisers Hyderabad\",\"orange\")\n",
    "d<-closeness(\"Mumbai Indians\",\"blue2\")\n",
    "e<-closeness(\"Royal Challengers Bangalore\",\"red3\")\n",
    "f<-closeness(\"Delhi Daredevils\",\"firebrick3\")\n",
    "g<-closeness(\"Rajasthan Royals\",\"blueviolet\")\n",
    "h<-closeness(\"Kings XI Punjab\",\"salmon\")\n",
    "grid.arrange(a,b,c,e,d,f,g,h,ncol=2)"
   ]
  },
  {
   "cell_type": "markdown",
   "metadata": {},
   "source": [
    "# Matches played in different cities"
   ]
  },
  {
   "cell_type": "code",
   "execution_count": 34,
   "metadata": {},
   "outputs": [
    {
     "data": {
      "image/png": "[encoded data removed]",
      "text/plain": [
       "plot without title"
      ]
     },
     "metadata": {
      "image/png": {
       "height": 420,
       "width": 420
      }
     },
     "output_type": "display_data"
    }
   ],
   "source": [
    "ggplot(match[which(!is.na(match$city)),],aes(city,fill= city,rm.na=T)) +geom_bar() +\n",
    "theme(axis.text.x = element_text(angle = 90, hjust = 1))+ \n",
    "ylab(\"Number of Matches Played\") +\n",
    "guides(fill=FALSE)\n"
   ]
  },
  {
   "cell_type": "markdown",
   "metadata": {},
   "source": [
    "# Number of matches played in different stadiums"
   ]
  },
  {
   "cell_type": "code",
   "execution_count": 35,
   "metadata": {},
   "outputs": [
    {
     "data": {
      "image/png": "[encoded data removed]",
      "text/plain": [
       "plot without title"
      ]
     },
     "metadata": {
      "image/png": {
       "height": 420,
       "width": 420
      }
     },
     "output_type": "display_data"
    }
   ],
   "source": [
    "ggplot(match,aes(venue, rm.na=T)) +geom_bar(fill=factor(\"blue\")) +\n",
    "theme(axis.text.x = element_text(angle = 90, hjust = 1))+ \n",
    "ylab(\"Number of Matches Played\")"
   ]
  },
  {
   "cell_type": "markdown",
   "metadata": {},
   "source": [
    "# Most number of runs"
   ]
  },
  {
   "cell_type": "code",
   "execution_count": 72,
   "metadata": {},
   "outputs": [
    {
     "data": {
      "text/html": [
       "<table>\n",
       "<thead><tr><th scope=col>batsman</th><th scope=col>Runs</th></tr></thead>\n",
       "<tbody>\n",
       "\t<tr><td>V Kohli       </td><td>5434          </td></tr>\n",
       "\t<tr><td>SK Raina      </td><td>5415          </td></tr>\n",
       "\t<tr><td>RG Sharma     </td><td>4914          </td></tr>\n",
       "\t<tr><td>DA Warner     </td><td>4741          </td></tr>\n",
       "\t<tr><td>S Dhawan      </td><td>4632          </td></tr>\n",
       "\t<tr><td>CH Gayle      </td><td>4560          </td></tr>\n",
       "\t<tr><td>MS Dhoni      </td><td>4477          </td></tr>\n",
       "\t<tr><td>RV Uthappa    </td><td>4446          </td></tr>\n",
       "\t<tr><td>AB de Villiers</td><td>4428          </td></tr>\n",
       "\t<tr><td>G Gambhir     </td><td>4223          </td></tr>\n",
       "\t<tr><td>AM Rahane     </td><td>3850          </td></tr>\n",
       "\t<tr><td>KD Karthik    </td><td>3688          </td></tr>\n",
       "\t<tr><td>SR Watson     </td><td>3614          </td></tr>\n",
       "\t<tr><td>AT Rayudu     </td><td>3326          </td></tr>\n",
       "\t<tr><td>YK Pathan     </td><td>3241          </td></tr>\n",
       "</tbody>\n",
       "</table>\n"
      ],
      "text/latex": [
       "\\begin{tabular}{r|ll}\n",
       " batsman & Runs\\\\\n",
       "\\hline\n",
       "\t V Kohli        & 5434          \\\\\n",
       "\t SK Raina       & 5415          \\\\\n",
       "\t RG Sharma      & 4914          \\\\\n",
       "\t DA Warner      & 4741          \\\\\n",
       "\t S Dhawan       & 4632          \\\\\n",
       "\t CH Gayle       & 4560          \\\\\n",
       "\t MS Dhoni       & 4477          \\\\\n",
       "\t RV Uthappa     & 4446          \\\\\n",
       "\t AB de Villiers & 4428          \\\\\n",
       "\t G Gambhir      & 4223          \\\\\n",
       "\t AM Rahane      & 3850          \\\\\n",
       "\t KD Karthik     & 3688          \\\\\n",
       "\t SR Watson      & 3614          \\\\\n",
       "\t AT Rayudu      & 3326          \\\\\n",
       "\t YK Pathan      & 3241          \\\\\n",
       "\\end{tabular}\n"
      ],
      "text/markdown": [
       "\n",
       "| batsman | Runs |\n",
       "|---|---|\n",
       "| V Kohli        | 5434           |\n",
       "| SK Raina       | 5415           |\n",
       "| RG Sharma      | 4914           |\n",
       "| DA Warner      | 4741           |\n",
       "| S Dhawan       | 4632           |\n",
       "| CH Gayle       | 4560           |\n",
       "| MS Dhoni       | 4477           |\n",
       "| RV Uthappa     | 4446           |\n",
       "| AB de Villiers | 4428           |\n",
       "| G Gambhir      | 4223           |\n",
       "| AM Rahane      | 3850           |\n",
       "| KD Karthik     | 3688           |\n",
       "| SR Watson      | 3614           |\n",
       "| AT Rayudu      | 3326           |\n",
       "| YK Pathan      | 3241           |\n",
       "\n"
      ],
      "text/plain": [
       "   batsman        Runs\n",
       "1  V Kohli        5434\n",
       "2  SK Raina       5415\n",
       "3  RG Sharma      4914\n",
       "4  DA Warner      4741\n",
       "5  S Dhawan       4632\n",
       "6  CH Gayle       4560\n",
       "7  MS Dhoni       4477\n",
       "8  RV Uthappa     4446\n",
       "9  AB de Villiers 4428\n",
       "10 G Gambhir      4223\n",
       "11 AM Rahane      3850\n",
       "12 KD Karthik     3688\n",
       "13 SR Watson      3614\n",
       "14 AT Rayudu      3326\n",
       "15 YK Pathan      3241"
      ]
     },
     "metadata": {},
     "output_type": "display_data"
    }
   ],
   "source": [
    "deliveries %>% \n",
    "    group_by(batsman) %>% \n",
    "    summarise(Runs = sum(batsman_runs)) %>% \n",
    "    arrange(-Runs) %>% \n",
    "    head(15)"
   ]
  },
  {
   "cell_type": "markdown",
   "metadata": {},
   "source": [
    "# Highest score by a batsman in a match"
   ]
  },
  {
   "cell_type": "code",
   "execution_count": 113,
   "metadata": {},
   "outputs": [],
   "source": [
    "top_scores =deliveries %>% \n",
    "    group_by(batsman, match_id) %>% \n",
    "    summarise(runs = sum(batsman_runs)) %>% \n",
    "    arrange(-runs) %>%\n",
    "    select(batsman, runs) %>% \n",
    "    head(10) %>%\n",
    "    ungroup() %>%\n",
    "    mutate(Rank = as.factor(1:10))"
   ]
  },
  {
   "cell_type": "code",
   "execution_count": 114,
   "metadata": {},
   "outputs": [
    {
     "data": {
      "text/html": [
       "<table>\n",
       "<thead><tr><th scope=col>batsman</th><th scope=col>runs</th><th scope=col>Rank</th></tr></thead>\n",
       "<tbody>\n",
       "\t<tr><td>CH Gayle      </td><td>175           </td><td>1             </td></tr>\n",
       "\t<tr><td>BB McCullum   </td><td>158           </td><td>2             </td></tr>\n",
       "\t<tr><td>AB de Villiers</td><td>133           </td><td>3             </td></tr>\n",
       "\t<tr><td>RR Pant       </td><td>130           </td><td>4             </td></tr>\n",
       "\t<tr><td>AB de Villiers</td><td>129           </td><td>5             </td></tr>\n",
       "\t<tr><td>CH Gayle      </td><td>128           </td><td>6             </td></tr>\n",
       "\t<tr><td>M Vijay       </td><td>127           </td><td>7             </td></tr>\n",
       "\t<tr><td>DA Warner     </td><td>126           </td><td>8             </td></tr>\n",
       "\t<tr><td>V Sehwag      </td><td>122           </td><td>9             </td></tr>\n",
       "\t<tr><td>SR Watson     </td><td>121           </td><td>10            </td></tr>\n",
       "</tbody>\n",
       "</table>\n"
      ],
      "text/latex": [
       "\\begin{tabular}{r|lll}\n",
       " batsman & runs & Rank\\\\\n",
       "\\hline\n",
       "\t CH Gayle       & 175            & 1             \\\\\n",
       "\t BB McCullum    & 158            & 2             \\\\\n",
       "\t AB de Villiers & 133            & 3             \\\\\n",
       "\t RR Pant        & 130            & 4             \\\\\n",
       "\t AB de Villiers & 129            & 5             \\\\\n",
       "\t CH Gayle       & 128            & 6             \\\\\n",
       "\t M Vijay        & 127            & 7             \\\\\n",
       "\t DA Warner      & 126            & 8             \\\\\n",
       "\t V Sehwag       & 122            & 9             \\\\\n",
       "\t SR Watson      & 121            & 10            \\\\\n",
       "\\end{tabular}\n"
      ],
      "text/markdown": [
       "\n",
       "| batsman | runs | Rank |\n",
       "|---|---|---|\n",
       "| CH Gayle       | 175            | 1              |\n",
       "| BB McCullum    | 158            | 2              |\n",
       "| AB de Villiers | 133            | 3              |\n",
       "| RR Pant        | 130            | 4              |\n",
       "| AB de Villiers | 129            | 5              |\n",
       "| CH Gayle       | 128            | 6              |\n",
       "| M Vijay        | 127            | 7              |\n",
       "| DA Warner      | 126            | 8              |\n",
       "| V Sehwag       | 122            | 9              |\n",
       "| SR Watson      | 121            | 10             |\n",
       "\n"
      ],
      "text/plain": [
       "   batsman        runs Rank\n",
       "1  CH Gayle       175  1   \n",
       "2  BB McCullum    158  2   \n",
       "3  AB de Villiers 133  3   \n",
       "4  RR Pant        130  4   \n",
       "5  AB de Villiers 129  5   \n",
       "6  CH Gayle       128  6   \n",
       "7  M Vijay        127  7   \n",
       "8  DA Warner      126  8   \n",
       "9  V Sehwag       122  9   \n",
       "10 SR Watson      121  10  "
      ]
     },
     "metadata": {},
     "output_type": "display_data"
    }
   ],
   "source": [
    "top_scores"
   ]
  },
  {
   "cell_type": "code",
   "execution_count": 83,
   "metadata": {},
   "outputs": [
    {
     "data": {
      "image/png": "[encoded data removed]",
      "text/plain": [
       "plot without title"
      ]
     },
     "metadata": {
      "image/png": {
       "height": 420,
       "width": 420
      }
     },
     "output_type": "display_data"
    }
   ],
   "source": [
    "ggplot(top_scores)+\n",
    "    aes(reorder(Rank, runs), runs)+\n",
    "    geom_bar(stat = \"identity\", width = 0.03, alpha = 0.3)+\n",
    "    geom_point(size=7, color=\"pink\", alpha=0.4, shape=20, stroke=5)+\n",
    "    scale_x_discrete(labels = top_scores[order(top_scores$runs),]$batsman) +\n",
    "    theme_classic()+\n",
    "    geom_text(aes(Rank, runs, label = runs))+\n",
    "    labs(x = \"\", y = \"Runs\", title = \"Highest runs scored by a player in a match\", subtitle = \"\")+\n",
    "    coord_flip()+\n",
    "    theme(axis.text = element_text(size = 12, face = \"bold\"), title  =  element_text(size = 16))"
   ]
  },
  {
   "cell_type": "markdown",
   "metadata": {},
   "source": [
    "# Teams scoring highest in matches"
   ]
  },
  {
   "cell_type": "code",
   "execution_count": 123,
   "metadata": {},
   "outputs": [],
   "source": [
    "team2 = deliveries %>% \n",
    "    group_by(match_id, batting_team) %>%\n",
    "    summarise(runs = sum(total_runs)) %>%\n",
    "    arrange(-runs) %>%\n",
    "    head(10) %>%\n",
    "    ungroup() %>% \n",
    "    mutate(Rank = as.factor(1:10))"
   ]
  },
  {
   "cell_type": "code",
   "execution_count": 124,
   "metadata": {},
   "outputs": [
    {
     "data": {
      "image/png": "[encoded data removed]",
      "text/plain": [
       "plot without title"
      ]
     },
     "metadata": {
      "image/png": {
       "height": 420,
       "width": 420
      }
     },
     "output_type": "display_data"
    }
   ],
   "source": [
    "ggplot(team2)+\n",
    "    aes(reorder(Rank, runs), runs)+\n",
    "    geom_bar(stat = \"identity\", width = 0.03, alpha = 0.3)+\n",
    "    geom_point(size=7, color=\"cyan\", alpha=0.4, shape=20, stroke=5)+\n",
    "    scale_x_discrete(labels = team2[order(team2$runs),]$batting_team) +\n",
    "    theme_classic()+\n",
    "    geom_text(aes(Rank, runs, label = runs))+\n",
    "    labs(x = \"\", y = \"\", title = \"Highest runs by a team in a match\", subtitle = \"\")+\n",
    "    coord_flip()+\n",
    "    theme(axis.text = element_text(size = 12, face = \"bold\"), title  =  element_text(size = 16))\n"
   ]
  },
  {
   "cell_type": "markdown",
   "metadata": {},
   "source": [
    "# Overall toss desicion"
   ]
  },
  {
   "cell_type": "code",
   "execution_count": 126,
   "metadata": {},
   "outputs": [
    {
     "data": {
      "image/png": "[encoded data removed]",
      "text/plain": [
       "Plot with title \"Toss Decision (%)\""
      ]
     },
     "metadata": {
      "image/png": {
       "height": 420,
       "width": 420
      }
     },
     "output_type": "display_data"
    }
   ],
   "source": [
    "toss = as.data.frame(table(match$toss_decision))\n",
    "toss = mutate(toss, percentage = (Freq/sum(Freq))*100)\n",
    "pie(toss$Freq, labels = round(toss$percentage), main = \"Toss Decision (%)\", col = c(\"red\", \"blue\"))\n",
    "legend(\"topright\", c(\"bat\",\"field\"), cex = 0.8, fill = c(\"red\", \"blue\"))"
   ]
  },
  {
   "cell_type": "code",
   "execution_count": 169,
   "metadata": {},
   "outputs": [
    {
     "data": {
      "text/plain": [
       "\n",
       "  bat field \n",
       "  293   463 "
      ]
     },
     "metadata": {},
     "output_type": "display_data"
    }
   ],
   "source": [
    "table(match$toss_decision)"
   ]
  },
  {
   "cell_type": "raw",
   "metadata": {},
   "source": [
    "team selects first time field 61% of times after winning toss "
   ]
  },
  {
   "cell_type": "code",
   "execution_count": 171,
   "metadata": {},
   "outputs": [
    {
     "data": {
      "image/png": "[encoded data removed]",
      "text/plain": [
       "plot without title"
      ]
     },
     "metadata": {
      "image/png": {
       "height": 420,
       "width": 420
      }
     },
     "output_type": "display_data"
    }
   ],
   "source": [
    "match%>%filter(city==\"Mumbai\"|city==\"Bangalore\"|city==\"Delhi\"|city==\"Chennai\"|city==\"Kolkata\"|city==\"Jaipur\"|\n",
    "               city==\"Hyderabad\"|city==\"Chandigarh\"|city==\"Pune\")%>%ggplot()+\n",
    "geom_bar(aes(x=toss_decision,fill=toss_winner))+facet_wrap(~city)"
   ]
  },
  {
   "cell_type": "raw",
   "metadata": {},
   "source": [
    "1) CSK loves to bat first on their home ground\n",
    "2) Teams generally to choose fielding first in Bangalore."
   ]
  },
  {
   "cell_type": "markdown",
   "metadata": {},
   "source": [
    "# IPL winners"
   ]
  },
  {
   "cell_type": "code",
   "execution_count": 129,
   "metadata": {},
   "outputs": [
    {
     "data": {
      "text/html": [
       "<table>\n",
       "<thead><tr><th scope=col>season</th><th scope=col>winner</th></tr></thead>\n",
       "<tbody>\n",
       "\t<tr><td>2008                 </td><td>Rajasthan Royals     </td></tr>\n",
       "\t<tr><td>2009                 </td><td>Deccan Chargers      </td></tr>\n",
       "\t<tr><td>2010                 </td><td>Chennai Super Kings  </td></tr>\n",
       "\t<tr><td>2011                 </td><td>Chennai Super Kings  </td></tr>\n",
       "\t<tr><td>2012                 </td><td>Kolkata Knight Riders</td></tr>\n",
       "\t<tr><td>2013                 </td><td>Mumbai Indians       </td></tr>\n",
       "\t<tr><td>2014                 </td><td>Kolkata Knight Riders</td></tr>\n",
       "\t<tr><td>2015                 </td><td>Mumbai Indians       </td></tr>\n",
       "\t<tr><td>2016                 </td><td>Sunrisers Hyderabad  </td></tr>\n",
       "\t<tr><td>2017                 </td><td>Mumbai Indians       </td></tr>\n",
       "\t<tr><td>2018                 </td><td>Chennai Super Kings  </td></tr>\n",
       "\t<tr><td>2019                 </td><td>Mumbai Indians       </td></tr>\n",
       "</tbody>\n",
       "</table>\n"
      ],
      "text/latex": [
       "\\begin{tabular}{r|ll}\n",
       " season & winner\\\\\n",
       "\\hline\n",
       "\t 2008                  & Rajasthan Royals     \\\\\n",
       "\t 2009                  & Deccan Chargers      \\\\\n",
       "\t 2010                  & Chennai Super Kings  \\\\\n",
       "\t 2011                  & Chennai Super Kings  \\\\\n",
       "\t 2012                  & Kolkata Knight Riders\\\\\n",
       "\t 2013                  & Mumbai Indians       \\\\\n",
       "\t 2014                  & Kolkata Knight Riders\\\\\n",
       "\t 2015                  & Mumbai Indians       \\\\\n",
       "\t 2016                  & Sunrisers Hyderabad  \\\\\n",
       "\t 2017                  & Mumbai Indians       \\\\\n",
       "\t 2018                  & Chennai Super Kings  \\\\\n",
       "\t 2019                  & Mumbai Indians       \\\\\n",
       "\\end{tabular}\n"
      ],
      "text/markdown": [
       "\n",
       "| season | winner |\n",
       "|---|---|\n",
       "| 2008                  | Rajasthan Royals      |\n",
       "| 2009                  | Deccan Chargers       |\n",
       "| 2010                  | Chennai Super Kings   |\n",
       "| 2011                  | Chennai Super Kings   |\n",
       "| 2012                  | Kolkata Knight Riders |\n",
       "| 2013                  | Mumbai Indians        |\n",
       "| 2014                  | Kolkata Knight Riders |\n",
       "| 2015                  | Mumbai Indians        |\n",
       "| 2016                  | Sunrisers Hyderabad   |\n",
       "| 2017                  | Mumbai Indians        |\n",
       "| 2018                  | Chennai Super Kings   |\n",
       "| 2019                  | Mumbai Indians        |\n",
       "\n"
      ],
      "text/plain": [
       "   season winner               \n",
       "1  2008   Rajasthan Royals     \n",
       "2  2009   Deccan Chargers      \n",
       "3  2010   Chennai Super Kings  \n",
       "4  2011   Chennai Super Kings  \n",
       "5  2012   Kolkata Knight Riders\n",
       "6  2013   Mumbai Indians       \n",
       "7  2014   Kolkata Knight Riders\n",
       "8  2015   Mumbai Indians       \n",
       "9  2016   Sunrisers Hyderabad  \n",
       "10 2017   Mumbai Indians       \n",
       "11 2018   Chennai Super Kings  \n",
       "12 2019   Mumbai Indians       "
      ]
     },
     "metadata": {},
     "output_type": "display_data"
    }
   ],
   "source": [
    "match %>%\n",
    "    select(season, id, winner) %>%\n",
    "    group_by(season) %>%\n",
    "    slice(which.max(id)) %>%\n",
    "    select(season, winner) "
   ]
  },
  {
   "cell_type": "markdown",
   "metadata": {},
   "source": [
    "# Highest total individual run against a team: "
   ]
  },
  {
   "cell_type": "code",
   "execution_count": 128,
   "metadata": {},
   "outputs": [
    {
     "data": {
      "text/html": [
       "<table>\n",
       "<thead><tr><th scope=col>bowling_team</th><th scope=col>batsman</th><th scope=col>total_runs</th></tr></thead>\n",
       "<tbody>\n",
       "\t<tr><td>Chennai Super Kings        </td><td>V Kohli                    </td><td>749                        </td></tr>\n",
       "\t<tr><td>Deccan Chargers            </td><td>R Dravid                   </td><td>339                        </td></tr>\n",
       "\t<tr><td>Delhi Capitals             </td><td>AD Russell                 </td><td>118                        </td></tr>\n",
       "\t<tr><td>Delhi Daredevils           </td><td>V Kohli                    </td><td>763                        </td></tr>\n",
       "\t<tr><td>Gujarat Lions              </td><td>DA Warner                  </td><td>336                        </td></tr>\n",
       "\t<tr><td>Kings XI Punjab            </td><td>DA Warner                  </td><td>833                        </td></tr>\n",
       "\t<tr><td>Kochi Tuskers Kerala       </td><td>SR Tendulkar               </td><td>100                        </td></tr>\n",
       "\t<tr><td>Kolkata Knight Riders      </td><td>DA Warner                  </td><td>835                        </td></tr>\n",
       "\t<tr><td>Mumbai Indians             </td><td>SK Raina                   </td><td>824                        </td></tr>\n",
       "\t<tr><td>Pune Warriors              </td><td>CH Gayle                   </td><td>383                        </td></tr>\n",
       "\t<tr><td>Rajasthan Royals           </td><td>SK Raina                   </td><td>620                        </td></tr>\n",
       "\t<tr><td>Rising Pune Supergiant     </td><td>PA Patel                   </td><td>108                        </td></tr>\n",
       "\t<tr><td>Rising Pune Supergiants    </td><td>V Kohli                    </td><td>188                        </td></tr>\n",
       "\t<tr><td>Royal Challengers Bangalore</td><td>MS Dhoni                   </td><td>808                        </td></tr>\n",
       "\t<tr><td>Sunrisers Hyderabad        </td><td>SR Watson                  </td><td>531                        </td></tr>\n",
       "</tbody>\n",
       "</table>\n"
      ],
      "text/latex": [
       "\\begin{tabular}{r|lll}\n",
       " bowling\\_team & batsman & total\\_runs\\\\\n",
       "\\hline\n",
       "\t Chennai Super Kings         & V Kohli                     & 749                        \\\\\n",
       "\t Deccan Chargers             & R Dravid                    & 339                        \\\\\n",
       "\t Delhi Capitals              & AD Russell                  & 118                        \\\\\n",
       "\t Delhi Daredevils            & V Kohli                     & 763                        \\\\\n",
       "\t Gujarat Lions               & DA Warner                   & 336                        \\\\\n",
       "\t Kings XI Punjab             & DA Warner                   & 833                        \\\\\n",
       "\t Kochi Tuskers Kerala        & SR Tendulkar                & 100                        \\\\\n",
       "\t Kolkata Knight Riders       & DA Warner                   & 835                        \\\\\n",
       "\t Mumbai Indians              & SK Raina                    & 824                        \\\\\n",
       "\t Pune Warriors               & CH Gayle                    & 383                        \\\\\n",
       "\t Rajasthan Royals            & SK Raina                    & 620                        \\\\\n",
       "\t Rising Pune Supergiant      & PA Patel                    & 108                        \\\\\n",
       "\t Rising Pune Supergiants     & V Kohli                     & 188                        \\\\\n",
       "\t Royal Challengers Bangalore & MS Dhoni                    & 808                        \\\\\n",
       "\t Sunrisers Hyderabad         & SR Watson                   & 531                        \\\\\n",
       "\\end{tabular}\n"
      ],
      "text/markdown": [
       "\n",
       "| bowling_team | batsman | total_runs |\n",
       "|---|---|---|\n",
       "| Chennai Super Kings         | V Kohli                     | 749                         |\n",
       "| Deccan Chargers             | R Dravid                    | 339                         |\n",
       "| Delhi Capitals              | AD Russell                  | 118                         |\n",
       "| Delhi Daredevils            | V Kohli                     | 763                         |\n",
       "| Gujarat Lions               | DA Warner                   | 336                         |\n",
       "| Kings XI Punjab             | DA Warner                   | 833                         |\n",
       "| Kochi Tuskers Kerala        | SR Tendulkar                | 100                         |\n",
       "| Kolkata Knight Riders       | DA Warner                   | 835                         |\n",
       "| Mumbai Indians              | SK Raina                    | 824                         |\n",
       "| Pune Warriors               | CH Gayle                    | 383                         |\n",
       "| Rajasthan Royals            | SK Raina                    | 620                         |\n",
       "| Rising Pune Supergiant      | PA Patel                    | 108                         |\n",
       "| Rising Pune Supergiants     | V Kohli                     | 188                         |\n",
       "| Royal Challengers Bangalore | MS Dhoni                    | 808                         |\n",
       "| Sunrisers Hyderabad         | SR Watson                   | 531                         |\n",
       "\n"
      ],
      "text/plain": [
       "   bowling_team                batsman      total_runs\n",
       "1  Chennai Super Kings         V Kohli      749       \n",
       "2  Deccan Chargers             R Dravid     339       \n",
       "3  Delhi Capitals              AD Russell   118       \n",
       "4  Delhi Daredevils            V Kohli      763       \n",
       "5  Gujarat Lions               DA Warner    336       \n",
       "6  Kings XI Punjab             DA Warner    833       \n",
       "7  Kochi Tuskers Kerala        SR Tendulkar 100       \n",
       "8  Kolkata Knight Riders       DA Warner    835       \n",
       "9  Mumbai Indians              SK Raina     824       \n",
       "10 Pune Warriors               CH Gayle     383       \n",
       "11 Rajasthan Royals            SK Raina     620       \n",
       "12 Rising Pune Supergiant      PA Patel     108       \n",
       "13 Rising Pune Supergiants     V Kohli      188       \n",
       "14 Royal Challengers Bangalore MS Dhoni     808       \n",
       "15 Sunrisers Hyderabad         SR Watson    531       "
      ]
     },
     "metadata": {},
     "output_type": "display_data"
    }
   ],
   "source": [
    "deliveries %>% \n",
    "    group_by(bowling_team, batsman) %>% \n",
    "    summarise(total_runs = sum(batsman_runs))%>%\n",
    "    arrange(-total_runs) %>% \n",
    "    na.omit() %>%\n",
    "    group_by(bowling_team) %>%\n",
    "    slice(which.max(total_runs))"
   ]
  },
  {
   "cell_type": "markdown",
   "metadata": {},
   "source": [
    "# Most Maiden overs "
   ]
  },
  {
   "cell_type": "code",
   "execution_count": 130,
   "metadata": {},
   "outputs": [],
   "source": [
    "maidens <- as.data.frame(deliveries %>% \n",
    "                            group_by(bowler, match_id, over) %>%\n",
    "                            summarise(runs = sum(total_runs)) %>% \n",
    "                            filter(runs == 0) %>%\n",
    "                            ungroup() %>% \n",
    "                            select(bowler) %>% \n",
    "                            table()) %>%\n",
    "    arrange(-Freq)"
   ]
  },
  {
   "cell_type": "code",
   "execution_count": 131,
   "metadata": {},
   "outputs": [
    {
     "data": {
      "image/png": "[encoded data removed]",
      "text/plain": [
       "plot without title"
      ]
     },
     "metadata": {
      "image/png": {
       "height": 420,
       "width": 420
      }
     },
     "output_type": "display_data"
    }
   ],
   "source": [
    "colnames(maidens) = c (\"Bowler\", \"No\")\n",
    "maidens %>%\n",
    "    filter(No > 5) %>%\n",
    "    ggplot() +\n",
    "    aes(reorder(Bowler, No), No) + \n",
    "    geom_bar(stat = \"identity\", width = 0.54) +\n",
    "    geom_text(aes(Bowler, No, label = No), hjust = -0.1)+\n",
    "    theme_minimal() + \n",
    "    coord_flip()+ \n",
    "    theme(axis.text.x =  element_blank())+\n",
    "    labs(x = \"\", y = \"\", title = \"Most Maiden Overs in IPL (2008-19)\")"
   ]
  },
  {
   "cell_type": "markdown",
   "metadata": {},
   "source": [
    "# Most wicket takers (overall)"
   ]
  },
  {
   "cell_type": "code",
   "execution_count": 142,
   "metadata": {},
   "outputs": [
    {
     "data": {
      "text/html": [
       "<table>\n",
       "<thead><tr><th scope=col>bowler</th><th scope=col>wickets</th></tr></thead>\n",
       "<tbody>\n",
       "\t<tr><td>SL Malinga     </td><td>170            </td></tr>\n",
       "\t<tr><td>A Mishra       </td><td>156            </td></tr>\n",
       "\t<tr><td>Harbhajan Singh</td><td>150            </td></tr>\n",
       "\t<tr><td>PP Chawla      </td><td>149            </td></tr>\n",
       "\t<tr><td>DJ Bravo       </td><td>147            </td></tr>\n",
       "\t<tr><td>B Kumar        </td><td>133            </td></tr>\n",
       "\t<tr><td>R Ashwin       </td><td>125            </td></tr>\n",
       "\t<tr><td>SP Narine      </td><td>122            </td></tr>\n",
       "\t<tr><td>UT Yadav       </td><td>119            </td></tr>\n",
       "\t<tr><td>RA Jadeja      </td><td>108            </td></tr>\n",
       "\t<tr><td>A Nehra        </td><td>106            </td></tr>\n",
       "\t<tr><td>R Vinay Kumar  </td><td>105            </td></tr>\n",
       "\t<tr><td>Z Khan         </td><td>103            </td></tr>\n",
       "\t<tr><td>YS Chahal      </td><td>100            </td></tr>\n",
       "\t<tr><td>DW Steyn       </td><td> 96            </td></tr>\n",
       "</tbody>\n",
       "</table>\n"
      ],
      "text/latex": [
       "\\begin{tabular}{r|ll}\n",
       " bowler & wickets\\\\\n",
       "\\hline\n",
       "\t SL Malinga      & 170            \\\\\n",
       "\t A Mishra        & 156            \\\\\n",
       "\t Harbhajan Singh & 150            \\\\\n",
       "\t PP Chawla       & 149            \\\\\n",
       "\t DJ Bravo        & 147            \\\\\n",
       "\t B Kumar         & 133            \\\\\n",
       "\t R Ashwin        & 125            \\\\\n",
       "\t SP Narine       & 122            \\\\\n",
       "\t UT Yadav        & 119            \\\\\n",
       "\t RA Jadeja       & 108            \\\\\n",
       "\t A Nehra         & 106            \\\\\n",
       "\t R Vinay Kumar   & 105            \\\\\n",
       "\t Z Khan          & 103            \\\\\n",
       "\t YS Chahal       & 100            \\\\\n",
       "\t DW Steyn        &  96            \\\\\n",
       "\\end{tabular}\n"
      ],
      "text/markdown": [
       "\n",
       "| bowler | wickets |\n",
       "|---|---|\n",
       "| SL Malinga      | 170             |\n",
       "| A Mishra        | 156             |\n",
       "| Harbhajan Singh | 150             |\n",
       "| PP Chawla       | 149             |\n",
       "| DJ Bravo        | 147             |\n",
       "| B Kumar         | 133             |\n",
       "| R Ashwin        | 125             |\n",
       "| SP Narine       | 122             |\n",
       "| UT Yadav        | 119             |\n",
       "| RA Jadeja       | 108             |\n",
       "| A Nehra         | 106             |\n",
       "| R Vinay Kumar   | 105             |\n",
       "| Z Khan          | 103             |\n",
       "| YS Chahal       | 100             |\n",
       "| DW Steyn        |  96             |\n",
       "\n"
      ],
      "text/plain": [
       "   bowler          wickets\n",
       "1  SL Malinga      170    \n",
       "2  A Mishra        156    \n",
       "3  Harbhajan Singh 150    \n",
       "4  PP Chawla       149    \n",
       "5  DJ Bravo        147    \n",
       "6  B Kumar         133    \n",
       "7  R Ashwin        125    \n",
       "8  SP Narine       122    \n",
       "9  UT Yadav        119    \n",
       "10 RA Jadeja       108    \n",
       "11 A Nehra         106    \n",
       "12 R Vinay Kumar   105    \n",
       "13 Z Khan          103    \n",
       "14 YS Chahal       100    \n",
       "15 DW Steyn         96    "
      ]
     },
     "metadata": {},
     "output_type": "display_data"
    }
   ],
   "source": [
    "deliveries %>%\n",
    "    filter(dismissal_kind != \"run out\") %>%\n",
    "    group_by(bowler) %>% \n",
    "    summarise(wickets = sum(table(dismissal_kind))) %>%\n",
    "    arrange(-wickets) %>% \n",
    "  head(15)"
   ]
  },
  {
   "cell_type": "markdown",
   "metadata": {},
   "source": [
    "# Bolwers taking more than 5 wickets"
   ]
  },
  {
   "cell_type": "code",
   "execution_count": 143,
   "metadata": {},
   "outputs": [
    {
     "data": {
      "text/plain": [
       "                 wickets\n",
       "bowler            5 6\n",
       "  A Joseph        0 1\n",
       "  A Kumble        1 0\n",
       "  A Mishra        1 0\n",
       "  A Zampa         0 1\n",
       "  AD Mascarenhas  1 0\n",
       "  AJ Tye          1 0\n",
       "  AS Rajpoot      1 0\n",
       "  B Kumar         1 0\n",
       "  Harbhajan Singh 1 0\n",
       "  I Sharma        1 0\n",
       "  JD Unadkat      2 0\n",
       "  JP Faulkner     2 0\n",
       "  L Balaji        1 0\n",
       "  MM Patel        1 0\n",
       "  RA Jadeja       1 0\n",
       "  SL Malinga      1 0\n",
       "  Sohail Tanvir   0 1\n",
       "  SP Narine       1 0"
      ]
     },
     "metadata": {},
     "output_type": "display_data"
    }
   ],
   "source": [
    "deliveries %>%\n",
    "    filter(dismissal_kind != \"run out\") %>%\n",
    "    group_by(bowler, match_id) %>% \n",
    "    summarise(wickets = sum(table(dismissal_kind))) %>%\n",
    "    arrange(-wickets) %>% \n",
    "    filter(wickets >= 5) %>% \n",
    "    select(bowler, wickets) %>%\n",
    "    table() "
   ]
  },
  {
   "cell_type": "markdown",
   "metadata": {},
   "source": [
    "# Most dismissed batsman by a bowler"
   ]
  },
  {
   "cell_type": "code",
   "execution_count": 144,
   "metadata": {},
   "outputs": [
    {
     "data": {
      "text/html": [
       "<table>\n",
       "<thead><tr><th scope=col>bowler</th><th scope=col>batsman</th><th scope=col>total_dismissed</th></tr></thead>\n",
       "<tbody>\n",
       "\t<tr><td>Z Khan       </td><td>MS Dhoni     </td><td>7            </td></tr>\n",
       "\t<tr><td>A Mishra     </td><td>RG Sharma    </td><td>6            </td></tr>\n",
       "\t<tr><td>A Nehra      </td><td>V Kohli      </td><td>6            </td></tr>\n",
       "\t<tr><td>B Kumar      </td><td>AM Rahane    </td><td>6            </td></tr>\n",
       "\t<tr><td>B Kumar      </td><td>PA Patel     </td><td>6            </td></tr>\n",
       "\t<tr><td>MM Sharma    </td><td>AT Rayudu    </td><td>6            </td></tr>\n",
       "\t<tr><td>PP Chawla    </td><td>AT Rayudu    </td><td>6            </td></tr>\n",
       "\t<tr><td>PP Ojha      </td><td>MS Dhoni     </td><td>6            </td></tr>\n",
       "\t<tr><td>R Ashwin     </td><td>RV Uthappa   </td><td>6            </td></tr>\n",
       "\t<tr><td>R Vinay Kumar</td><td>RG Sharma    </td><td>6            </td></tr>\n",
       "</tbody>\n",
       "</table>\n"
      ],
      "text/latex": [
       "\\begin{tabular}{r|lll}\n",
       " bowler & batsman & total\\_dismissed\\\\\n",
       "\\hline\n",
       "\t Z Khan        & MS Dhoni      & 7            \\\\\n",
       "\t A Mishra      & RG Sharma     & 6            \\\\\n",
       "\t A Nehra       & V Kohli       & 6            \\\\\n",
       "\t B Kumar       & AM Rahane     & 6            \\\\\n",
       "\t B Kumar       & PA Patel      & 6            \\\\\n",
       "\t MM Sharma     & AT Rayudu     & 6            \\\\\n",
       "\t PP Chawla     & AT Rayudu     & 6            \\\\\n",
       "\t PP Ojha       & MS Dhoni      & 6            \\\\\n",
       "\t R Ashwin      & RV Uthappa    & 6            \\\\\n",
       "\t R Vinay Kumar & RG Sharma     & 6            \\\\\n",
       "\\end{tabular}\n"
      ],
      "text/markdown": [
       "\n",
       "| bowler | batsman | total_dismissed |\n",
       "|---|---|---|\n",
       "| Z Khan        | MS Dhoni      | 7             |\n",
       "| A Mishra      | RG Sharma     | 6             |\n",
       "| A Nehra       | V Kohli       | 6             |\n",
       "| B Kumar       | AM Rahane     | 6             |\n",
       "| B Kumar       | PA Patel      | 6             |\n",
       "| MM Sharma     | AT Rayudu     | 6             |\n",
       "| PP Chawla     | AT Rayudu     | 6             |\n",
       "| PP Ojha       | MS Dhoni      | 6             |\n",
       "| R Ashwin      | RV Uthappa    | 6             |\n",
       "| R Vinay Kumar | RG Sharma     | 6             |\n",
       "\n"
      ],
      "text/plain": [
       "   bowler        batsman    total_dismissed\n",
       "1  Z Khan        MS Dhoni   7              \n",
       "2  A Mishra      RG Sharma  6              \n",
       "3  A Nehra       V Kohli    6              \n",
       "4  B Kumar       AM Rahane  6              \n",
       "5  B Kumar       PA Patel   6              \n",
       "6  MM Sharma     AT Rayudu  6              \n",
       "7  PP Chawla     AT Rayudu  6              \n",
       "8  PP Ojha       MS Dhoni   6              \n",
       "9  R Ashwin      RV Uthappa 6              \n",
       "10 R Vinay Kumar RG Sharma  6              "
      ]
     },
     "metadata": {},
     "output_type": "display_data"
    }
   ],
   "source": [
    "deliveries %>%\n",
    "    filter(dismissal_kind != \"run out\") %>%\n",
    "    group_by(bowler, batsman) %>% \n",
    "    summarise(total_dismissed = sum(table(dismissal_kind))) %>%\n",
    "    arrange(-total_dismissed) %>% \n",
    "    head(10)"
   ]
  },
  {
   "cell_type": "markdown",
   "metadata": {},
   "source": [
    "# Batsman with most runs againt a single bowler"
   ]
  },
  {
   "cell_type": "code",
   "execution_count": 145,
   "metadata": {},
   "outputs": [
    {
     "data": {
      "text/html": [
       "<table>\n",
       "<thead><tr><th scope=col>batsman</th><th scope=col>bowler</th><th scope=col>runs</th></tr></thead>\n",
       "<tbody>\n",
       "\t<tr><td>SK Raina       </td><td>Harbhajan Singh</td><td>125            </td></tr>\n",
       "\t<tr><td>S Dhawan       </td><td>Harbhajan Singh</td><td>123            </td></tr>\n",
       "\t<tr><td>V Kohli        </td><td>R Ashwin       </td><td>119            </td></tr>\n",
       "\t<tr><td>RG Sharma      </td><td>PP Chawla      </td><td>113            </td></tr>\n",
       "\t<tr><td>RG Sharma      </td><td>SP Narine      </td><td>111            </td></tr>\n",
       "\t<tr><td>CH Gayle       </td><td>Harbhajan Singh</td><td>103            </td></tr>\n",
       "\t<tr><td>V Kohli        </td><td>A Mishra       </td><td>103            </td></tr>\n",
       "\t<tr><td>SK Raina       </td><td>PP Chawla      </td><td>102            </td></tr>\n",
       "\t<tr><td>MS Dhoni       </td><td>PP Ojha        </td><td>100            </td></tr>\n",
       "\t<tr><td>V Kohli        </td><td>RA Jadeja      </td><td> 99            </td></tr>\n",
       "</tbody>\n",
       "</table>\n"
      ],
      "text/latex": [
       "\\begin{tabular}{r|lll}\n",
       " batsman & bowler & runs\\\\\n",
       "\\hline\n",
       "\t SK Raina        & Harbhajan Singh & 125            \\\\\n",
       "\t S Dhawan        & Harbhajan Singh & 123            \\\\\n",
       "\t V Kohli         & R Ashwin        & 119            \\\\\n",
       "\t RG Sharma       & PP Chawla       & 113            \\\\\n",
       "\t RG Sharma       & SP Narine       & 111            \\\\\n",
       "\t CH Gayle        & Harbhajan Singh & 103            \\\\\n",
       "\t V Kohli         & A Mishra        & 103            \\\\\n",
       "\t SK Raina        & PP Chawla       & 102            \\\\\n",
       "\t MS Dhoni        & PP Ojha         & 100            \\\\\n",
       "\t V Kohli         & RA Jadeja       &  99            \\\\\n",
       "\\end{tabular}\n"
      ],
      "text/markdown": [
       "\n",
       "| batsman | bowler | runs |\n",
       "|---|---|---|\n",
       "| SK Raina        | Harbhajan Singh | 125             |\n",
       "| S Dhawan        | Harbhajan Singh | 123             |\n",
       "| V Kohli         | R Ashwin        | 119             |\n",
       "| RG Sharma       | PP Chawla       | 113             |\n",
       "| RG Sharma       | SP Narine       | 111             |\n",
       "| CH Gayle        | Harbhajan Singh | 103             |\n",
       "| V Kohli         | A Mishra        | 103             |\n",
       "| SK Raina        | PP Chawla       | 102             |\n",
       "| MS Dhoni        | PP Ojha         | 100             |\n",
       "| V Kohli         | RA Jadeja       |  99             |\n",
       "\n"
      ],
      "text/plain": [
       "   batsman   bowler          runs\n",
       "1  SK Raina  Harbhajan Singh 125 \n",
       "2  S Dhawan  Harbhajan Singh 123 \n",
       "3  V Kohli   R Ashwin        119 \n",
       "4  RG Sharma PP Chawla       113 \n",
       "5  RG Sharma SP Narine       111 \n",
       "6  CH Gayle  Harbhajan Singh 103 \n",
       "7  V Kohli   A Mishra        103 \n",
       "8  SK Raina  PP Chawla       102 \n",
       "9  MS Dhoni  PP Ojha         100 \n",
       "10 V Kohli   RA Jadeja        99 "
      ]
     },
     "metadata": {},
     "output_type": "display_data"
    }
   ],
   "source": [
    "deliveries %>% \n",
    "    group_by(batsman, bowler) %>% \n",
    "    summarise(runs = sum(table(batsman_runs)))%>%\n",
    "    arrange(-runs) %>% \n",
    "  head(10) "
   ]
  },
  {
   "cell_type": "markdown",
   "metadata": {},
   "source": [
    "# Batsman with most dismissal:"
   ]
  },
  {
   "cell_type": "code",
   "execution_count": 147,
   "metadata": {},
   "outputs": [
    {
     "data": {
      "text/html": [
       "<table>\n",
       "<thead><tr><th scope=col>player_dismissed</th><th scope=col>dismissal_kind</th><th scope=col>total</th></tr></thead>\n",
       "<tbody>\n",
       "\t<tr><td>SR Watson            </td><td>bowled               </td><td> 32                  </td></tr>\n",
       "\t<tr><td>SK Raina             </td><td>caught               </td><td>112                  </td></tr>\n",
       "\t<tr><td>SK Raina             </td><td>caught and bowled    </td><td>  7                  </td></tr>\n",
       "\t<tr><td>DA Warner            </td><td>hit wicket           </td><td>  1                  </td></tr>\n",
       "\t<tr><td>BB McCullum          </td><td>lbw                  </td><td> 16                  </td></tr>\n",
       "\t<tr><td>A Mishra             </td><td>obstructing the field</td><td>  1                  </td></tr>\n",
       "\t<tr><td>Harbhajan Singh      </td><td>retired hurt         </td><td>  2                  </td></tr>\n",
       "\t<tr><td>G Gambhir            </td><td>run out              </td><td> 16                  </td></tr>\n",
       "\t<tr><td>SK Raina             </td><td>stumped              </td><td>  8                  </td></tr>\n",
       "</tbody>\n",
       "</table>\n"
      ],
      "text/latex": [
       "\\begin{tabular}{r|lll}\n",
       " player\\_dismissed & dismissal\\_kind & total\\\\\n",
       "\\hline\n",
       "\t SR Watson             & bowled                &  32                  \\\\\n",
       "\t SK Raina              & caught                & 112                  \\\\\n",
       "\t SK Raina              & caught and bowled     &   7                  \\\\\n",
       "\t DA Warner             & hit wicket            &   1                  \\\\\n",
       "\t BB McCullum           & lbw                   &  16                  \\\\\n",
       "\t A Mishra              & obstructing the field &   1                  \\\\\n",
       "\t Harbhajan Singh       & retired hurt          &   2                  \\\\\n",
       "\t G Gambhir             & run out               &  16                  \\\\\n",
       "\t SK Raina              & stumped               &   8                  \\\\\n",
       "\\end{tabular}\n"
      ],
      "text/markdown": [
       "\n",
       "| player_dismissed | dismissal_kind | total |\n",
       "|---|---|---|\n",
       "| SR Watson             | bowled                |  32                   |\n",
       "| SK Raina              | caught                | 112                   |\n",
       "| SK Raina              | caught and bowled     |   7                   |\n",
       "| DA Warner             | hit wicket            |   1                   |\n",
       "| BB McCullum           | lbw                   |  16                   |\n",
       "| A Mishra              | obstructing the field |   1                   |\n",
       "| Harbhajan Singh       | retired hurt          |   2                   |\n",
       "| G Gambhir             | run out               |  16                   |\n",
       "| SK Raina              | stumped               |   8                   |\n",
       "\n"
      ],
      "text/plain": [
       "  player_dismissed dismissal_kind        total\n",
       "1 SR Watson        bowled                 32  \n",
       "2 SK Raina         caught                112  \n",
       "3 SK Raina         caught and bowled       7  \n",
       "4 DA Warner        hit wicket              1  \n",
       "5 BB McCullum      lbw                    16  \n",
       "6 A Mishra         obstructing the field   1  \n",
       "7 Harbhajan Singh  retired hurt            2  \n",
       "8 G Gambhir        run out                16  \n",
       "9 SK Raina         stumped                 8  "
      ]
     },
     "metadata": {},
     "output_type": "display_data"
    }
   ],
   "source": [
    "deliveries %>% \n",
    "    group_by(player_dismissed, dismissal_kind) %>% \n",
    "    summarise(total = sum(table(dismissal_kind)))%>%\n",
    "    arrange(-total) %>% \n",
    "    na.omit() %>%\n",
    "    group_by(dismissal_kind) %>%\n",
    "    slice(which.max(total)) "
   ]
  },
  {
   "cell_type": "markdown",
   "metadata": {},
   "source": [
    "# Bowlers with most dismissal type:"
   ]
  },
  {
   "cell_type": "code",
   "execution_count": 148,
   "metadata": {},
   "outputs": [
    {
     "data": {
      "text/html": [
       "<table>\n",
       "<thead><tr><th scope=col>bowler</th><th scope=col>dismissal_kind</th><th scope=col>total</th></tr></thead>\n",
       "<tbody>\n",
       "\t<tr><td>SL Malinga           </td><td>bowled               </td><td> 63                  </td></tr>\n",
       "\t<tr><td>DJ Bravo             </td><td>caught               </td><td>113                  </td></tr>\n",
       "\t<tr><td>Harbhajan Singh      </td><td>caught and bowled    </td><td> 10                  </td></tr>\n",
       "\t<tr><td>S Sreesanth          </td><td>hit wicket           </td><td>  2                  </td></tr>\n",
       "\t<tr><td>PP Chawla            </td><td>lbw                  </td><td> 16                  </td></tr>\n",
       "\t<tr><td>K Ahmed              </td><td>obstructing the field</td><td>  1                  </td></tr>\n",
       "\t<tr><td>BB Sran              </td><td>retired hurt         </td><td>  1                  </td></tr>\n",
       "\t<tr><td>R Vinay Kumar        </td><td>run out              </td><td> 22                  </td></tr>\n",
       "\t<tr><td>A Mishra             </td><td>stumped              </td><td> 26                  </td></tr>\n",
       "</tbody>\n",
       "</table>\n"
      ],
      "text/latex": [
       "\\begin{tabular}{r|lll}\n",
       " bowler & dismissal\\_kind & total\\\\\n",
       "\\hline\n",
       "\t SL Malinga            & bowled                &  63                  \\\\\n",
       "\t DJ Bravo              & caught                & 113                  \\\\\n",
       "\t Harbhajan Singh       & caught and bowled     &  10                  \\\\\n",
       "\t S Sreesanth           & hit wicket            &   2                  \\\\\n",
       "\t PP Chawla             & lbw                   &  16                  \\\\\n",
       "\t K Ahmed               & obstructing the field &   1                  \\\\\n",
       "\t BB Sran               & retired hurt          &   1                  \\\\\n",
       "\t R Vinay Kumar         & run out               &  22                  \\\\\n",
       "\t A Mishra              & stumped               &  26                  \\\\\n",
       "\\end{tabular}\n"
      ],
      "text/markdown": [
       "\n",
       "| bowler | dismissal_kind | total |\n",
       "|---|---|---|\n",
       "| SL Malinga            | bowled                |  63                   |\n",
       "| DJ Bravo              | caught                | 113                   |\n",
       "| Harbhajan Singh       | caught and bowled     |  10                   |\n",
       "| S Sreesanth           | hit wicket            |   2                   |\n",
       "| PP Chawla             | lbw                   |  16                   |\n",
       "| K Ahmed               | obstructing the field |   1                   |\n",
       "| BB Sran               | retired hurt          |   1                   |\n",
       "| R Vinay Kumar         | run out               |  22                   |\n",
       "| A Mishra              | stumped               |  26                   |\n",
       "\n"
      ],
      "text/plain": [
       "  bowler          dismissal_kind        total\n",
       "1 SL Malinga      bowled                 63  \n",
       "2 DJ Bravo        caught                113  \n",
       "3 Harbhajan Singh caught and bowled      10  \n",
       "4 S Sreesanth     hit wicket              2  \n",
       "5 PP Chawla       lbw                    16  \n",
       "6 K Ahmed         obstructing the field   1  \n",
       "7 BB Sran         retired hurt            1  \n",
       "8 R Vinay Kumar   run out                22  \n",
       "9 A Mishra        stumped                26  "
      ]
     },
     "metadata": {},
     "output_type": "display_data"
    }
   ],
   "source": [
    "deliveries %>% \n",
    "    group_by(bowler, dismissal_kind) %>% \n",
    "    summarise(total = sum(table(dismissal_kind)))%>%\n",
    "    arrange(-total) %>% \n",
    "    na.omit() %>%\n",
    "    group_by(dismissal_kind) %>%\n",
    "    slice(which.max(total)) "
   ]
  },
  {
   "cell_type": "markdown",
   "metadata": {},
   "source": [
    "# Highest run scorer in IPL:"
   ]
  },
  {
   "cell_type": "code",
   "execution_count": 149,
   "metadata": {},
   "outputs": [
    {
     "data": {
      "text/html": [
       "<table>\n",
       "<thead><tr><th scope=col>batting_team</th><th scope=col>batsman</th><th scope=col>runs</th></tr></thead>\n",
       "<tbody>\n",
       "\t<tr><td>Chennai Super Kings        </td><td>SK Raina                   </td><td>4574                       </td></tr>\n",
       "\t<tr><td>Deccan Chargers            </td><td>AC Gilchrist               </td><td>1220                       </td></tr>\n",
       "\t<tr><td>Delhi Capitals             </td><td>S Dhawan                   </td><td> 542                       </td></tr>\n",
       "\t<tr><td>Delhi Daredevils           </td><td>V Sehwag                   </td><td>2174                       </td></tr>\n",
       "\t<tr><td>Gujarat Lions              </td><td>SK Raina                   </td><td> 841                       </td></tr>\n",
       "\t<tr><td>Kings XI Punjab            </td><td>SE Marsh                   </td><td>2489                       </td></tr>\n",
       "\t<tr><td>Kochi Tuskers Kerala       </td><td>BB McCullum                </td><td> 357                       </td></tr>\n",
       "\t<tr><td>Kolkata Knight Riders      </td><td>G Gambhir                  </td><td>3035                       </td></tr>\n",
       "\t<tr><td>Mumbai Indians             </td><td>RG Sharma                  </td><td>3744                       </td></tr>\n",
       "\t<tr><td>Pune Warriors              </td><td>RV Uthappa                 </td><td>1103                       </td></tr>\n",
       "\t<tr><td>Rajasthan Royals           </td><td>AM Rahane                  </td><td>2840                       </td></tr>\n",
       "\t<tr><td>Rising Pune Supergiant     </td><td>SPD Smith                  </td><td> 472                       </td></tr>\n",
       "\t<tr><td>Rising Pune Supergiants    </td><td>AM Rahane                  </td><td> 480                       </td></tr>\n",
       "\t<tr><td>Royal Challengers Bangalore</td><td>V Kohli                    </td><td>5434                       </td></tr>\n",
       "\t<tr><td>Sunrisers Hyderabad        </td><td>DA Warner                  </td><td>3306                       </td></tr>\n",
       "</tbody>\n",
       "</table>\n"
      ],
      "text/latex": [
       "\\begin{tabular}{r|lll}\n",
       " batting\\_team & batsman & runs\\\\\n",
       "\\hline\n",
       "\t Chennai Super Kings         & SK Raina                    & 4574                       \\\\\n",
       "\t Deccan Chargers             & AC Gilchrist                & 1220                       \\\\\n",
       "\t Delhi Capitals              & S Dhawan                    &  542                       \\\\\n",
       "\t Delhi Daredevils            & V Sehwag                    & 2174                       \\\\\n",
       "\t Gujarat Lions               & SK Raina                    &  841                       \\\\\n",
       "\t Kings XI Punjab             & SE Marsh                    & 2489                       \\\\\n",
       "\t Kochi Tuskers Kerala        & BB McCullum                 &  357                       \\\\\n",
       "\t Kolkata Knight Riders       & G Gambhir                   & 3035                       \\\\\n",
       "\t Mumbai Indians              & RG Sharma                   & 3744                       \\\\\n",
       "\t Pune Warriors               & RV Uthappa                  & 1103                       \\\\\n",
       "\t Rajasthan Royals            & AM Rahane                   & 2840                       \\\\\n",
       "\t Rising Pune Supergiant      & SPD Smith                   &  472                       \\\\\n",
       "\t Rising Pune Supergiants     & AM Rahane                   &  480                       \\\\\n",
       "\t Royal Challengers Bangalore & V Kohli                     & 5434                       \\\\\n",
       "\t Sunrisers Hyderabad         & DA Warner                   & 3306                       \\\\\n",
       "\\end{tabular}\n"
      ],
      "text/markdown": [
       "\n",
       "| batting_team | batsman | runs |\n",
       "|---|---|---|\n",
       "| Chennai Super Kings         | SK Raina                    | 4574                        |\n",
       "| Deccan Chargers             | AC Gilchrist                | 1220                        |\n",
       "| Delhi Capitals              | S Dhawan                    |  542                        |\n",
       "| Delhi Daredevils            | V Sehwag                    | 2174                        |\n",
       "| Gujarat Lions               | SK Raina                    |  841                        |\n",
       "| Kings XI Punjab             | SE Marsh                    | 2489                        |\n",
       "| Kochi Tuskers Kerala        | BB McCullum                 |  357                        |\n",
       "| Kolkata Knight Riders       | G Gambhir                   | 3035                        |\n",
       "| Mumbai Indians              | RG Sharma                   | 3744                        |\n",
       "| Pune Warriors               | RV Uthappa                  | 1103                        |\n",
       "| Rajasthan Royals            | AM Rahane                   | 2840                        |\n",
       "| Rising Pune Supergiant      | SPD Smith                   |  472                        |\n",
       "| Rising Pune Supergiants     | AM Rahane                   |  480                        |\n",
       "| Royal Challengers Bangalore | V Kohli                     | 5434                        |\n",
       "| Sunrisers Hyderabad         | DA Warner                   | 3306                        |\n",
       "\n"
      ],
      "text/plain": [
       "   batting_team                batsman      runs\n",
       "1  Chennai Super Kings         SK Raina     4574\n",
       "2  Deccan Chargers             AC Gilchrist 1220\n",
       "3  Delhi Capitals              S Dhawan      542\n",
       "4  Delhi Daredevils            V Sehwag     2174\n",
       "5  Gujarat Lions               SK Raina      841\n",
       "6  Kings XI Punjab             SE Marsh     2489\n",
       "7  Kochi Tuskers Kerala        BB McCullum   357\n",
       "8  Kolkata Knight Riders       G Gambhir    3035\n",
       "9  Mumbai Indians              RG Sharma    3744\n",
       "10 Pune Warriors               RV Uthappa   1103\n",
       "11 Rajasthan Royals            AM Rahane    2840\n",
       "12 Rising Pune Supergiant      SPD Smith     472\n",
       "13 Rising Pune Supergiants     AM Rahane     480\n",
       "14 Royal Challengers Bangalore V Kohli      5434\n",
       "15 Sunrisers Hyderabad         DA Warner    3306"
      ]
     },
     "metadata": {},
     "output_type": "display_data"
    }
   ],
   "source": [
    "deliveries %>% \n",
    "    group_by(batting_team, batsman) %>% \n",
    "    summarise(runs = sum(batsman_runs)) %>% \n",
    "    arrange(-runs) %>%\n",
    "    group_by(batting_team) %>%\n",
    "    slice(which.max(runs))"
   ]
  },
  {
   "cell_type": "markdown",
   "metadata": {},
   "source": [
    "# Highest wicket taker teams:"
   ]
  },
  {
   "cell_type": "code",
   "execution_count": 154,
   "metadata": {},
   "outputs": [],
   "source": [
    "x<-deliveries%>%\n",
    "    filter(dismissal_kind != \"run out\") %>%\n",
    "    group_by(bowling_team, bowler) %>% \n",
    "    summarise(wickets = sum(table(dismissal_kind))) %>%\n",
    "    arrange(-wickets) %>% \n",
    "    group_by(bowling_team) %>% \n",
    "    slice(which.max(wickets))"
   ]
  },
  {
   "cell_type": "code",
   "execution_count": 155,
   "metadata": {},
   "outputs": [
    {
     "data": {
      "text/html": [
       "<table>\n",
       "<thead><tr><th scope=col>bowling_team</th><th scope=col>bowler</th><th scope=col>wickets</th></tr></thead>\n",
       "<tbody>\n",
       "\t<tr><td>Chennai Super Kings        </td><td>DJ Bravo                   </td><td>104                        </td></tr>\n",
       "\t<tr><td>Deccan Chargers            </td><td>PP Ojha                    </td><td> 60                        </td></tr>\n",
       "\t<tr><td>Delhi Capitals             </td><td>K Rabada                   </td><td> 25                        </td></tr>\n",
       "\t<tr><td>Delhi Daredevils           </td><td>A Mishra                   </td><td> 86                        </td></tr>\n",
       "\t<tr><td>Gujarat Lions              </td><td>DS Kulkarni                </td><td> 21                        </td></tr>\n",
       "\t<tr><td>Kings XI Punjab            </td><td>PP Chawla                  </td><td> 84                        </td></tr>\n",
       "\t<tr><td>Kochi Tuskers Kerala       </td><td>RP Singh                   </td><td> 13                        </td></tr>\n",
       "\t<tr><td>Kolkata Knight Riders      </td><td>SP Narine                  </td><td>122                        </td></tr>\n",
       "\t<tr><td>Mumbai Indians             </td><td>SL Malinga                 </td><td>170                        </td></tr>\n",
       "\t<tr><td>Pune Warriors              </td><td>R Sharma                   </td><td> 34                        </td></tr>\n",
       "\t<tr><td>Rajasthan Royals           </td><td>SK Trivedi                 </td><td> 65                        </td></tr>\n",
       "\t<tr><td>Rising Pune Supergiant     </td><td>JD Unadkat                 </td><td> 24                        </td></tr>\n",
       "\t<tr><td>Rising Pune Supergiants    </td><td>A Zampa                    </td><td> 12                        </td></tr>\n",
       "\t<tr><td>Royal Challengers Bangalore</td><td>YS Chahal                  </td><td>100                        </td></tr>\n",
       "\t<tr><td>Sunrisers Hyderabad        </td><td>B Kumar                    </td><td>109                        </td></tr>\n",
       "</tbody>\n",
       "</table>\n"
      ],
      "text/latex": [
       "\\begin{tabular}{r|lll}\n",
       " bowling\\_team & bowler & wickets\\\\\n",
       "\\hline\n",
       "\t Chennai Super Kings         & DJ Bravo                    & 104                        \\\\\n",
       "\t Deccan Chargers             & PP Ojha                     &  60                        \\\\\n",
       "\t Delhi Capitals              & K Rabada                    &  25                        \\\\\n",
       "\t Delhi Daredevils            & A Mishra                    &  86                        \\\\\n",
       "\t Gujarat Lions               & DS Kulkarni                 &  21                        \\\\\n",
       "\t Kings XI Punjab             & PP Chawla                   &  84                        \\\\\n",
       "\t Kochi Tuskers Kerala        & RP Singh                    &  13                        \\\\\n",
       "\t Kolkata Knight Riders       & SP Narine                   & 122                        \\\\\n",
       "\t Mumbai Indians              & SL Malinga                  & 170                        \\\\\n",
       "\t Pune Warriors               & R Sharma                    &  34                        \\\\\n",
       "\t Rajasthan Royals            & SK Trivedi                  &  65                        \\\\\n",
       "\t Rising Pune Supergiant      & JD Unadkat                  &  24                        \\\\\n",
       "\t Rising Pune Supergiants     & A Zampa                     &  12                        \\\\\n",
       "\t Royal Challengers Bangalore & YS Chahal                   & 100                        \\\\\n",
       "\t Sunrisers Hyderabad         & B Kumar                     & 109                        \\\\\n",
       "\\end{tabular}\n"
      ],
      "text/markdown": [
       "\n",
       "| bowling_team | bowler | wickets |\n",
       "|---|---|---|\n",
       "| Chennai Super Kings         | DJ Bravo                    | 104                         |\n",
       "| Deccan Chargers             | PP Ojha                     |  60                         |\n",
       "| Delhi Capitals              | K Rabada                    |  25                         |\n",
       "| Delhi Daredevils            | A Mishra                    |  86                         |\n",
       "| Gujarat Lions               | DS Kulkarni                 |  21                         |\n",
       "| Kings XI Punjab             | PP Chawla                   |  84                         |\n",
       "| Kochi Tuskers Kerala        | RP Singh                    |  13                         |\n",
       "| Kolkata Knight Riders       | SP Narine                   | 122                         |\n",
       "| Mumbai Indians              | SL Malinga                  | 170                         |\n",
       "| Pune Warriors               | R Sharma                    |  34                         |\n",
       "| Rajasthan Royals            | SK Trivedi                  |  65                         |\n",
       "| Rising Pune Supergiant      | JD Unadkat                  |  24                         |\n",
       "| Rising Pune Supergiants     | A Zampa                     |  12                         |\n",
       "| Royal Challengers Bangalore | YS Chahal                   | 100                         |\n",
       "| Sunrisers Hyderabad         | B Kumar                     | 109                         |\n",
       "\n"
      ],
      "text/plain": [
       "   bowling_team                bowler      wickets\n",
       "1  Chennai Super Kings         DJ Bravo    104    \n",
       "2  Deccan Chargers             PP Ojha      60    \n",
       "3  Delhi Capitals              K Rabada     25    \n",
       "4  Delhi Daredevils            A Mishra     86    \n",
       "5  Gujarat Lions               DS Kulkarni  21    \n",
       "6  Kings XI Punjab             PP Chawla    84    \n",
       "7  Kochi Tuskers Kerala        RP Singh     13    \n",
       "8  Kolkata Knight Riders       SP Narine   122    \n",
       "9  Mumbai Indians              SL Malinga  170    \n",
       "10 Pune Warriors               R Sharma     34    \n",
       "11 Rajasthan Royals            SK Trivedi   65    \n",
       "12 Rising Pune Supergiant      JD Unadkat   24    \n",
       "13 Rising Pune Supergiants     A Zampa      12    \n",
       "14 Royal Challengers Bangalore YS Chahal   100    \n",
       "15 Sunrisers Hyderabad         B Kumar     109    "
      ]
     },
     "metadata": {},
     "output_type": "display_data"
    }
   ],
   "source": [
    "x"
   ]
  },
  {
   "cell_type": "code",
   "execution_count": 164,
   "metadata": {},
   "outputs": [
    {
     "data": {
      "image/png": "[encoded data removed]",
      "text/plain": [
       "plot without title"
      ]
     },
     "metadata": {
      "image/png": {
       "height": 420,
       "width": 420
      }
     },
     "output_type": "display_data"
    }
   ],
   "source": [
    "ggplot(x,aes(bowler,wickets,col=factor(bowling_team),size=I(8)))+geom_point()"
   ]
  },
  {
   "cell_type": "markdown",
   "metadata": {},
   "source": [
    "# plaers with most catch, runout and stumped"
   ]
  },
  {
   "cell_type": "code",
   "execution_count": 153,
   "metadata": {},
   "outputs": [
    {
     "data": {
      "text/html": [
       "<table>\n",
       "<thead><tr><th scope=col>dismissal_kind</th><th scope=col>fielder</th><th scope=col>total</th></tr></thead>\n",
       "<tbody>\n",
       "\t<tr><td>caught    </td><td>KD Karthik</td><td>109       </td></tr>\n",
       "\t<tr><td>run out   </td><td>MS Dhoni  </td><td> 23       </td></tr>\n",
       "\t<tr><td>stumped   </td><td>MS Dhoni  </td><td> 38       </td></tr>\n",
       "</tbody>\n",
       "</table>\n"
      ],
      "text/latex": [
       "\\begin{tabular}{r|lll}\n",
       " dismissal\\_kind & fielder & total\\\\\n",
       "\\hline\n",
       "\t caught     & KD Karthik & 109       \\\\\n",
       "\t run out    & MS Dhoni   &  23       \\\\\n",
       "\t stumped    & MS Dhoni   &  38       \\\\\n",
       "\\end{tabular}\n"
      ],
      "text/markdown": [
       "\n",
       "| dismissal_kind | fielder | total |\n",
       "|---|---|---|\n",
       "| caught     | KD Karthik | 109        |\n",
       "| run out    | MS Dhoni   |  23        |\n",
       "| stumped    | MS Dhoni   |  38        |\n",
       "\n"
      ],
      "text/plain": [
       "  dismissal_kind fielder    total\n",
       "1 caught         KD Karthik 109  \n",
       "2 run out        MS Dhoni    23  \n",
       "3 stumped        MS Dhoni    38  "
      ]
     },
     "metadata": {},
     "output_type": "display_data"
    }
   ],
   "source": [
    "deliveries %>%\n",
    "    group_by(dismissal_kind, fielder) %>% \n",
    "    summarise(total = sum(table(dismissal_kind))) %>%\n",
    "    arrange(-total) %>% \n",
    "    group_by(dismissal_kind) %>% \n",
    "    slice(which.max(total)) %>% na.omit()"
   ]
  },
  {
   "cell_type": "code",
   "execution_count": null,
   "metadata": {},
   "outputs": [],
   "source": []
  }
 ],
 "metadata": {
  "kernelspec": {
   "display_name": "R",
   "language": "R",
   "name": "ir"
  },
  "language_info": {
   "codemirror_mode": "r",
   "file_extension": ".r",
   "mimetype": "text/x-r-source",
   "name": "R",
   "pygments_lexer": "r",
   "version": "3.6.1"
  }
 },
 "nbformat": 4,
 "nbformat_minor": 4
}
